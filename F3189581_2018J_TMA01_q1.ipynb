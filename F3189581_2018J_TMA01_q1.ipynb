{
 "cells": [
  {
   "cell_type": "markdown",
   "metadata": {},
   "source": [
    "# TMA01, question 1 (40 marks)"
   ]
  },
  {
   "cell_type": "markdown",
   "metadata": {},
   "source": [
    "**Name**: Mark Carroll\n",
    "\n",
    "**PI**: F318958"
   ]
  },
  {
   "cell_type": "markdown",
   "metadata": {},
   "source": [
    "In this question, you will investigate a dataset of current MPs, and create a plot showing how many male and female MPs came into the UK House of Commons each year.\n",
    "\n",
    "\n",
    "The tasks in this notebook can be addressed using the techniques discussed in parts 2-6 of the module materials, and the associated notebooks.\n",
    "\n",
    "\n",
    "The question has three parts, looking at different parts of the data analysis pipeline.\n",
    "\n",
    "Record all your activity and observations in this notebook. Generate additional notebook cells as required."
   ]
  },
  {
   "cell_type": "markdown",
   "metadata": {},
   "source": [
    "Note that in this question you are required to use python; this is to give you experience with using pandas and dataframes to manipulate data."
   ]
  },
  {
   "cell_type": "code",
   "execution_count": 1,
   "metadata": {
    "code_folding": []
   },
   "outputs": [],
   "source": [
    "# This cell imports some standard libraries you may need \n",
    "# for this question.\n",
    "\n",
    "import pandas as pd\n",
    "import numpy as np\n",
    "\n",
    "import re\n",
    "\n",
    "import glob"
   ]
  },
  {
   "cell_type": "code",
   "execution_count": 2,
   "metadata": {},
   "outputs": [],
   "source": [
    "import matplotlib.pyplot as plt"
   ]
  },
  {
   "cell_type": "markdown",
   "metadata": {},
   "source": [
    "#### Contents"
   ]
  },
  {
   "cell_type": "markdown",
   "metadata": {},
   "source": [
    "[Data provenance, and importing the data](http://localhost:35180/notebooks/18j-tma01/2018J_TMA01_q1-Tutor_Notes.ipynb#Data-provenance,-and-importing-the-data)\n",
    "\n",
    "[Cleaning and combining the data](http://localhost:35180/notebooks/18j-tma01/2018J_TMA01_q1-Tutor_Notes.ipynb#Cleaning-and-combining-the-data)\n",
    "\n",
    "[Visualising the data](http://localhost:35180/notebooks/18j-tma01/2018J_TMA01_q1-Tutor_Notes.ipynb#Visualising-the-data)"
   ]
  },
  {
   "cell_type": "markdown",
   "metadata": {},
   "source": [
    "### Data provenance, and importing the data"
   ]
  },
  {
   "cell_type": "markdown",
   "metadata": {},
   "source": [
    "In this notebook, you will use two datasets. We have provided both for you here, but even when someone passes you a dataset, you need to be able to confirm your usage rights for that data."
   ]
  },
  {
   "cell_type": "markdown",
   "metadata": {},
   "source": [
    "#### 1. Licensing for the Houses of Parliament dataset"
   ]
  },
  {
   "cell_type": "markdown",
   "metadata": {},
   "source": [
    "The first dataset is a csv file called `hop_mps.csv` in the `data` directory. This dataset was compiled using the UK parliament data service.\n",
    "\n",
    "The data was downloaded from the Parliament data portal:\n",
    "\n",
    "http://data.parliament.uk\n",
    "    \n",
    "on 4th April, 2018, and the file `hop_mps.csv` contains Parliamentary information licensed under the [Open Parliament Licence v3.0](https://www.parliament.uk/site-information/copyright/open-parliament-licence/).\n"
   ]
  },
  {
   "cell_type": "markdown",
   "metadata": {},
   "source": [
    "Find the terms of this license, and state:\n",
    "1. the specific clauses of the licence which allow the OU to distribute the data to you, and\n",
    "2. the obligations that the licence places upon the OU when distributing the data.\n",
    "\n",
    "*(2 marks)*\n"
   ]
  },
  {
   "cell_type": "code",
   "execution_count": 3,
   "metadata": {
    "hide_input": false
   },
   "outputs": [
    {
     "ename": "SyntaxError",
     "evalue": "invalid syntax (<ipython-input-3-037555cac017>, line 1)",
     "output_type": "error",
     "traceback": [
      "\u001b[0;36m  File \u001b[0;32m\"<ipython-input-3-037555cac017>\"\u001b[0;36m, line \u001b[0;32m1\u001b[0m\n\u001b[0;31m    1. The Open Parliament Licence v3.0 states that anyone is free to copy, publish, distribute and transmit the information\u001b[0m\n\u001b[0m         ^\u001b[0m\n\u001b[0;31mSyntaxError\u001b[0m\u001b[0;31m:\u001b[0m invalid syntax\n"
     ]
    }
   ],
   "source": [
    "1. The Open Parliament Licence v3.0 states that anyone is free to copy, publish, distribute and transmit the information\n",
    "\n",
    "2. The Open University is obligated to acknowledge the the source of the information as they have done so above."
   ]
  },
  {
   "cell_type": "markdown",
   "metadata": {},
   "source": [
    "#### 2. Licensing for the Wikipedia dataset"
   ]
  },
  {
   "cell_type": "markdown",
   "metadata": {},
   "source": [
    "The second dataset is also a csv file called `wikipedia_mps.csv` in the `data` directory. This dataset contains a csv file which was built using data downloaded from the wikipedia page:\n",
    "\n",
    "https://en.wikipedia.org/wiki/List_of_MPs_for_constituencies_in_England_2017%E2%80%93present\n",
    "    \n",
    "on 4th April 2018, and is distributed to you under the [Creative Commons Attribution-ShareAlike License](https://creativecommons.org/licenses/by-sa/3.0/) (CC-SA)."
   ]
  },
  {
   "cell_type": "markdown",
   "metadata": {},
   "source": [
    "With specific reference to the relevant clauses, explain why the `wikipedia_mps.csv` file is brought to you under the CC-SA. *(3 marks)*"
   ]
  },
  {
   "cell_type": "code",
   "execution_count": 4,
   "metadata": {
    "hide_input": false
   },
   "outputs": [
    {
     "ename": "SyntaxError",
     "evalue": "invalid syntax (<ipython-input-4-bcd5331b534e>, line 2)",
     "output_type": "error",
     "traceback": [
      "\u001b[0;36m  File \u001b[0;32m\"<ipython-input-4-bcd5331b534e>\"\u001b[0;36m, line \u001b[0;32m2\u001b[0m\n\u001b[0;31m    this is a test for backup purposes\u001b[0m\n\u001b[0m                 ^\u001b[0m\n\u001b[0;31mSyntaxError\u001b[0m\u001b[0;31m:\u001b[0m invalid syntax\n"
     ]
    }
   ],
   "source": [
    "# Write your answer in this cell\n",
    "this is a test for backup purposes"
   ]
  },
  {
   "cell_type": "markdown",
   "metadata": {},
   "source": [
    "#### 3. Importing the datasets"
   ]
  },
  {
   "cell_type": "markdown",
   "metadata": {},
   "source": [
    "Import the file `hop_mps.csv` into a dataframe named `hop_df`. \n",
    "\n",
    "Display a preview of the first five rows of the dataframe. *(1 mark)*"
   ]
  },
  {
   "cell_type": "code",
   "execution_count": 5,
   "metadata": {
    "hide_input": false
   },
   "outputs": [
    {
     "data": {
      "text/html": [
       "<div>\n",
       "<style scoped>\n",
       "    .dataframe tbody tr th:only-of-type {\n",
       "        vertical-align: middle;\n",
       "    }\n",
       "\n",
       "    .dataframe tbody tr th {\n",
       "        vertical-align: top;\n",
       "    }\n",
       "\n",
       "    .dataframe thead th {\n",
       "        text-align: right;\n",
       "    }\n",
       "</style>\n",
       "<table border=\"1\" class=\"dataframe\">\n",
       "  <thead>\n",
       "    <tr style=\"text-align: right;\">\n",
       "      <th></th>\n",
       "      <th>Member name</th>\n",
       "      <th>Member from</th>\n",
       "      <th>Party</th>\n",
       "      <th>Gender</th>\n",
       "    </tr>\n",
       "  </thead>\n",
       "  <tbody>\n",
       "    <tr>\n",
       "      <th>0</th>\n",
       "      <td>Stephen Kinnock</td>\n",
       "      <td>Aberavon</td>\n",
       "      <td>Labour</td>\n",
       "      <td>M</td>\n",
       "    </tr>\n",
       "    <tr>\n",
       "      <th>1</th>\n",
       "      <td>Guto Bebb</td>\n",
       "      <td>Aberconwy</td>\n",
       "      <td>Conservative</td>\n",
       "      <td>M</td>\n",
       "    </tr>\n",
       "    <tr>\n",
       "      <th>2</th>\n",
       "      <td>Kirsty Blackman</td>\n",
       "      <td>Aberdeen North</td>\n",
       "      <td>Scottish National Party</td>\n",
       "      <td>F</td>\n",
       "    </tr>\n",
       "    <tr>\n",
       "      <th>3</th>\n",
       "      <td>Ross Thomson</td>\n",
       "      <td>Aberdeen South</td>\n",
       "      <td>Conservative</td>\n",
       "      <td>M</td>\n",
       "    </tr>\n",
       "    <tr>\n",
       "      <th>4</th>\n",
       "      <td>Neil Gray</td>\n",
       "      <td>Airdrie and Shotts</td>\n",
       "      <td>Scottish National Party</td>\n",
       "      <td>M</td>\n",
       "    </tr>\n",
       "  </tbody>\n",
       "</table>\n",
       "</div>"
      ],
      "text/plain": [
       "       Member name         Member from                    Party Gender\n",
       "0  Stephen Kinnock            Aberavon                   Labour      M\n",
       "1        Guto Bebb           Aberconwy             Conservative      M\n",
       "2  Kirsty Blackman      Aberdeen North  Scottish National Party      F\n",
       "3     Ross Thomson      Aberdeen South             Conservative      M\n",
       "4        Neil Gray  Airdrie and Shotts  Scottish National Party      M"
      ]
     },
     "execution_count": 5,
     "metadata": {},
     "output_type": "execute_result"
    }
   ],
   "source": [
    "## read in hop_mps.csv file\n",
    "hop_df = pd.read_csv('data/hop_mps.csv',encoding=\"utf-8\")\n",
    "## sort values alphabetically\n",
    "hop_df = hop_df.sort_values('Member from')\n",
    "## reset index values\n",
    "hop_df = hop_df.reset_index(drop=True)\n",
    "## display first five lines\n",
    "hop_df[:5]"
   ]
  },
  {
   "cell_type": "markdown",
   "metadata": {},
   "source": [
    "Import the file `wikipedia_mps.csv` into a dataframe named `wiki_df`.\n",
    "\n",
    "Display a preview of the first five rows of the dataframe. *(1 mark)*"
   ]
  },
  {
   "cell_type": "code",
   "execution_count": 6,
   "metadata": {
    "hide_input": false
   },
   "outputs": [
    {
     "data": {
      "text/html": [
       "<div>\n",
       "<style scoped>\n",
       "    .dataframe tbody tr th:only-of-type {\n",
       "        vertical-align: middle;\n",
       "    }\n",
       "\n",
       "    .dataframe tbody tr th {\n",
       "        vertical-align: top;\n",
       "    }\n",
       "\n",
       "    .dataframe thead th {\n",
       "        text-align: right;\n",
       "    }\n",
       "</style>\n",
       "<table border=\"1\" class=\"dataframe\">\n",
       "  <thead>\n",
       "    <tr style=\"text-align: right;\">\n",
       "      <th></th>\n",
       "      <th>MP</th>\n",
       "      <th>Constituency</th>\n",
       "      <th>Party</th>\n",
       "      <th>In constituency since</th>\n",
       "    </tr>\n",
       "  </thead>\n",
       "  <tbody>\n",
       "    <tr>\n",
       "      <th>0</th>\n",
       "      <td>Stephen Kinnock</td>\n",
       "      <td>Aberavon</td>\n",
       "      <td>Labour Party</td>\n",
       "      <td>2015</td>\n",
       "    </tr>\n",
       "    <tr>\n",
       "      <th>1</th>\n",
       "      <td>Guto Bebb</td>\n",
       "      <td>Aberconwy</td>\n",
       "      <td>Conservative Party</td>\n",
       "      <td>2010</td>\n",
       "    </tr>\n",
       "    <tr>\n",
       "      <th>2</th>\n",
       "      <td>Kirsty Blackman</td>\n",
       "      <td>Aberdeen North</td>\n",
       "      <td>Scottish National Party</td>\n",
       "      <td>2015</td>\n",
       "    </tr>\n",
       "    <tr>\n",
       "      <th>3</th>\n",
       "      <td>Callum McCaig</td>\n",
       "      <td>Aberdeen South</td>\n",
       "      <td>Scottish National Party</td>\n",
       "      <td>2015</td>\n",
       "    </tr>\n",
       "    <tr>\n",
       "      <th>4</th>\n",
       "      <td>Neil Gray</td>\n",
       "      <td>Airdrie &amp; Shotts</td>\n",
       "      <td>Scottish National Party</td>\n",
       "      <td>2015</td>\n",
       "    </tr>\n",
       "  </tbody>\n",
       "</table>\n",
       "</div>"
      ],
      "text/plain": [
       "                MP      Constituency                    Party  \\\n",
       "0  Stephen Kinnock          Aberavon             Labour Party   \n",
       "1        Guto Bebb         Aberconwy       Conservative Party   \n",
       "2  Kirsty Blackman    Aberdeen North  Scottish National Party   \n",
       "3    Callum McCaig    Aberdeen South  Scottish National Party   \n",
       "4        Neil Gray  Airdrie & Shotts  Scottish National Party   \n",
       "\n",
       "  In constituency since  \n",
       "0                  2015  \n",
       "1                  2010  \n",
       "2                  2015  \n",
       "3                  2015  \n",
       "4                  2015  "
      ]
     },
     "execution_count": 6,
     "metadata": {},
     "output_type": "execute_result"
    }
   ],
   "source": [
    "## read in wiki file\n",
    "wiki_df = pd.read_csv('data/wikipedia_mps.csv', encoding=\"utf-8\")\n",
    "## sort values alphabetically\n",
    "wiki_df = wiki_df.sort_values('Constituency')\n",
    "## reset index values\n",
    "wiki_df = wiki_df.reset_index(drop=True)\n",
    "## display first five lines\n",
    "wiki_df[:5]"
   ]
  },
  {
   "cell_type": "markdown",
   "metadata": {},
   "source": [
    "At this point it was noted that there is a discrepancy in the mp for Aberdeen South\n",
    "this was caused by the Wikipedia data being out of date when sampled. further investigation showed many discrepancies in the wikipedia data therefore rather than manually fix this it was decided to reaquire the data from the updated wiki page."
   ]
  },
  {
   "cell_type": "code",
   "execution_count": 7,
   "metadata": {},
   "outputs": [
    {
     "data": {
      "text/html": [
       "<div>\n",
       "<style scoped>\n",
       "    .dataframe tbody tr th:only-of-type {\n",
       "        vertical-align: middle;\n",
       "    }\n",
       "\n",
       "    .dataframe tbody tr th {\n",
       "        vertical-align: top;\n",
       "    }\n",
       "\n",
       "    .dataframe thead th {\n",
       "        text-align: right;\n",
       "    }\n",
       "</style>\n",
       "<table border=\"1\" class=\"dataframe\">\n",
       "  <thead>\n",
       "    <tr style=\"text-align: right;\">\n",
       "      <th></th>\n",
       "      <th>MP</th>\n",
       "      <th>Constituency</th>\n",
       "      <th>Party</th>\n",
       "      <th>In constituency since</th>\n",
       "    </tr>\n",
       "  </thead>\n",
       "  <tbody>\n",
       "    <tr>\n",
       "      <th>0</th>\n",
       "      <td>Stephen Kinnock</td>\n",
       "      <td>Aberavon</td>\n",
       "      <td>Labour</td>\n",
       "      <td>2015</td>\n",
       "    </tr>\n",
       "    <tr>\n",
       "      <th>1</th>\n",
       "      <td>Guto Bebb</td>\n",
       "      <td>Aberconwy</td>\n",
       "      <td>Conservative</td>\n",
       "      <td>2010</td>\n",
       "    </tr>\n",
       "    <tr>\n",
       "      <th>2</th>\n",
       "      <td>Kirsty Blackman</td>\n",
       "      <td>Aberdeen North</td>\n",
       "      <td>Scottish National Party</td>\n",
       "      <td>2015</td>\n",
       "    </tr>\n",
       "    <tr>\n",
       "      <th>3</th>\n",
       "      <td>Ross Thomson</td>\n",
       "      <td>Aberdeen South</td>\n",
       "      <td>Scottish Conservative Party</td>\n",
       "      <td>2017</td>\n",
       "    </tr>\n",
       "    <tr>\n",
       "      <th>4</th>\n",
       "      <td>Neil Gray</td>\n",
       "      <td>Airdrie &amp; Shotts</td>\n",
       "      <td>Scottish National Party</td>\n",
       "      <td>2015</td>\n",
       "    </tr>\n",
       "  </tbody>\n",
       "</table>\n",
       "</div>"
      ],
      "text/plain": [
       "                MP      Constituency                        Party  \\\n",
       "0  Stephen Kinnock          Aberavon                       Labour   \n",
       "1        Guto Bebb         Aberconwy                 Conservative   \n",
       "2  Kirsty Blackman    Aberdeen North      Scottish National Party   \n",
       "3     Ross Thomson    Aberdeen South  Scottish Conservative Party   \n",
       "4        Neil Gray  Airdrie & Shotts      Scottish National Party   \n",
       "\n",
       "  In constituency since  \n",
       "0                  2015  \n",
       "1                  2010  \n",
       "2                  2015  \n",
       "3                  2017  \n",
       "4                  2015  "
      ]
     },
     "execution_count": 7,
     "metadata": {},
     "output_type": "execute_result"
    }
   ],
   "source": [
    "## read in wiki file\n",
    "wiki_df = pd.read_csv('data/wiki_new.csv', encoding=\"utf-8\")\n",
    "## sort values alphabetically\n",
    "wiki_df = wiki_df.sort_values('Constituency')\n",
    "## reset index values\n",
    "wiki_df = wiki_df.reset_index(drop=True)\n",
    "## display first five lines\n",
    "wiki_df[:5]"
   ]
  },
  {
   "cell_type": "markdown",
   "metadata": {},
   "source": [
    "### Cleaning and combining the data"
   ]
  },
  {
   "cell_type": "markdown",
   "metadata": {},
   "source": [
    "In order to build our visualisation, we will need to join the two dataframes on the column containing the parliamentary constituency. In order to do this, it is important that the column in each dataframe contains the same values."
   ]
  },
  {
   "cell_type": "markdown",
   "metadata": {},
   "source": [
    "#### 4. Identifying discrepancies between the datasets"
   ]
  },
  {
   "cell_type": "markdown",
   "metadata": {},
   "source": [
    "If you investigate the two datasets, you will find that there are some inconsistencies in how the constituency names are written."
   ]
  },
  {
   "cell_type": "markdown",
   "metadata": {},
   "source": [
    "Using python, generate a list of all the constituency names which appear in `hop_df` but which do not appear in `wiki_df`. Then generate a list of all the constituency names which appear in `wiki_df` but which do not appear in `hop_df`. *(5 marks)*"
   ]
  },
  {
   "cell_type": "code",
   "execution_count": 8,
   "metadata": {},
   "outputs": [
    {
     "data": {
      "text/plain": [
       "['Airdrie and Shotts',\n",
       " 'Birmingham, Edgbaston',\n",
       " 'Birmingham, Erdington',\n",
       " 'Birmingham, Hall Green',\n",
       " 'Birmingham, Hodge Hill',\n",
       " 'Birmingham, Ladywood',\n",
       " 'Birmingham, Northfield',\n",
       " 'Birmingham, Perry Barr',\n",
       " 'Birmingham, Selly Oak',\n",
       " 'Birmingham, Yardley',\n",
       " 'Brighton, Kemptown',\n",
       " 'Brighton, Pavilion',\n",
       " 'Ealing, Southall',\n",
       " 'Edinburgh North and Leith',\n",
       " 'Enfield, Southgate',\n",
       " 'Huntingdon',\n",
       " 'Hyndburn',\n",
       " 'Ilford North',\n",
       " 'Ilford South',\n",
       " 'Inverclyde',\n",
       " 'Inverness, Nairn, Badenoch and Strathspey',\n",
       " 'Ipswich',\n",
       " 'Isle of Wight',\n",
       " 'Islington North',\n",
       " 'Islington South and Finsbury',\n",
       " 'Islwyn',\n",
       " 'Jarrow',\n",
       " 'Keighley',\n",
       " 'Kenilworth and Southam',\n",
       " 'Kensington',\n",
       " 'Kettering',\n",
       " 'Kilmarnock and Loudoun',\n",
       " 'Kingston and Surbiton',\n",
       " 'Kingston upon Hull East',\n",
       " 'Kingston upon Hull North',\n",
       " 'Kingston upon Hull West and Hessle',\n",
       " 'Lewisham East',\n",
       " 'Lewisham West and Penge',\n",
       " 'Lewisham, Deptford',\n",
       " 'Liverpool, Riverside',\n",
       " 'Liverpool, Walton',\n",
       " 'Liverpool, Wavertree',\n",
       " 'Liverpool, West Derby',\n",
       " 'Manchester, Gorton',\n",
       " 'Manchester, Withington',\n",
       " 'Plymouth, Moor View',\n",
       " 'Plymouth, Sutton and Devonport',\n",
       " 'Ross, Skye and Lochaber',\n",
       " 'Sheffield Central',\n",
       " 'Sheffield South East',\n",
       " 'Sheffield, Brightside and Hillsborough',\n",
       " 'Sheffield, Hallam',\n",
       " 'Sheffield, Heeley',\n",
       " 'Southampton, Itchen',\n",
       " 'Southampton, Test']"
      ]
     },
     "execution_count": 8,
     "metadata": {},
     "output_type": "execute_result"
    }
   ],
   "source": [
    "hop_dif = []\n",
    "for x in hop_df.index:\n",
    "    if hop_df.at[x,'Member from'] != wiki_df.at[x,'Constituency']:\n",
    "        hop_dif.insert(x,hop_df.at[x,'Member from'])\n",
    "hop_dif"
   ]
  },
  {
   "cell_type": "code",
   "execution_count": 9,
   "metadata": {},
   "outputs": [
    {
     "data": {
      "text/plain": [
       "['Airdrie & Shotts',\n",
       " 'Birmingham Edgbaston',\n",
       " 'Birmingham Erdington',\n",
       " 'Birmingham Hall Green',\n",
       " 'Birmingham Hodge Hill',\n",
       " 'Birmingham Ladywood',\n",
       " 'Birmingham Northfield',\n",
       " 'Birmingham Perry Barr',\n",
       " 'Birmingham Selly Oak',\n",
       " 'Birmingham Yardley',\n",
       " 'Brighton Kemptown',\n",
       " 'Brighton Pavilion',\n",
       " 'Ealing Southall',\n",
       " 'Edinburgh North & Leith',\n",
       " 'Enfield Southgate',\n",
       " 'Hull East',\n",
       " 'Hull North',\n",
       " 'Hull West and Hessle',\n",
       " 'Huntingdon',\n",
       " 'Hyndburn',\n",
       " 'Ilford North',\n",
       " 'Ilford South',\n",
       " 'Inverclyde',\n",
       " 'Inverness, Nairn, Badenoch and Strathspey',\n",
       " 'Ipswich',\n",
       " 'Isle of Wight',\n",
       " 'Islington North',\n",
       " 'Islington South and Finsbury',\n",
       " 'Islwyn',\n",
       " 'Jarrow',\n",
       " 'Keighley',\n",
       " 'Kenilworth and Southam',\n",
       " 'Kensington',\n",
       " 'Kettering',\n",
       " 'Kilmarnock and Loudoun',\n",
       " 'Kingston and Surbiton',\n",
       " 'Lewisham Deptford',\n",
       " 'Lewisham East',\n",
       " 'Lewisham West and Penge',\n",
       " 'Liverpool Riverside',\n",
       " 'Liverpool Walton',\n",
       " 'Liverpool Wavertree',\n",
       " 'Liverpool West Derby',\n",
       " 'Manchester Gorton',\n",
       " 'Manchester Withington',\n",
       " 'Plymouth Moor View',\n",
       " 'Plymouth Sutton and Devonport',\n",
       " 'Ross, Skye & Lochaber',\n",
       " 'Sheffield Brightside and Hillsborough',\n",
       " 'Sheffield Central',\n",
       " 'Sheffield Hallam',\n",
       " 'Sheffield Heeley',\n",
       " 'Sheffield South East',\n",
       " 'Southampton Itchen',\n",
       " 'Southampton Test']"
      ]
     },
     "execution_count": 9,
     "metadata": {},
     "output_type": "execute_result"
    }
   ],
   "source": [
    "wiki_dif = []\n",
    "for x in hop_df.index:\n",
    "    if wiki_df.at[x,'Constituency'] != hop_df.at[x,'Member from']:\n",
    "        wiki_dif.insert(x,wiki_df.at[x,'Constituency'])\n",
    "wiki_dif"
   ]
  },
  {
   "cell_type": "markdown",
   "metadata": {},
   "source": [
    "#### 5. Correcting discrepancies between the datasets"
   ]
  },
  {
   "cell_type": "markdown",
   "metadata": {},
   "source": [
    "Update the `wiki_df` table so that where there is a discrepancy between the constituency name in `wiki_df` and `hop_df`, the value in `wiki_df` is changed so that the two columns match. \n",
    "\n",
    "Display an appropriate number of rows of `wiki_df`, so that it is clear what difference has been made. *(8 marks)*"
   ]
  },
  {
   "cell_type": "markdown",
   "metadata": {},
   "source": [
    "**Hint**: If your answers to the two previous questions are returned in alphabetical order, you should be able to map from one to another by the index position in the list."
   ]
  },
  {
   "cell_type": "markdown",
   "metadata": {},
   "source": [
    "After inspection of the lists it appears some are out of order\n",
    "this is due to the naming conventions and puctuation diferences between the two lists\n",
    "to correct this i decided to manually edit the 5 fields in the wiki_df that caused the problem."
   ]
  },
  {
   "cell_type": "code",
   "execution_count": 10,
   "metadata": {},
   "outputs": [],
   "source": [
    "## correcting naming differences\n",
    "wiki_df['Constituency'] = wiki_df['Constituency'].str.replace('Hull','Kingston upon Hull')\n",
    "wiki_df['Constituency'] = wiki_df['Constituency'].str.replace('Sheffield Brightside and Hillsborough','Sheffield, Brightside and Hillsborough')\n",
    "wiki_df['Constituency'] = wiki_df['Constituency'].str.replace('Sheffield Hallam','Sheffield, Hallam')\n",
    "wiki_df['Constituency'] = wiki_df['Constituency'].str.replace('Sheffield Heeley','Sheffield, Heeley')\n",
    "wiki_df['Constituency'] = wiki_df['Constituency'].str.replace('Lewisham Deptford','Lewisham, Deptford')"
   ]
  },
  {
   "cell_type": "code",
   "execution_count": 11,
   "metadata": {},
   "outputs": [
    {
     "data": {
      "text/plain": [
       "['Airdrie & Shotts',\n",
       " 'Birmingham Edgbaston',\n",
       " 'Birmingham Erdington',\n",
       " 'Birmingham Hall Green',\n",
       " 'Birmingham Hodge Hill',\n",
       " 'Birmingham Ladywood',\n",
       " 'Birmingham Northfield',\n",
       " 'Birmingham Perry Barr',\n",
       " 'Birmingham Selly Oak',\n",
       " 'Birmingham Yardley',\n",
       " 'Brighton Kemptown',\n",
       " 'Brighton Pavilion',\n",
       " 'Ealing Southall',\n",
       " 'Edinburgh North & Leith',\n",
       " 'Enfield Southgate',\n",
       " 'Liverpool Riverside',\n",
       " 'Liverpool Walton',\n",
       " 'Liverpool Wavertree',\n",
       " 'Liverpool West Derby',\n",
       " 'Manchester Gorton',\n",
       " 'Manchester Withington',\n",
       " 'Plymouth Moor View',\n",
       " 'Plymouth Sutton and Devonport',\n",
       " 'Ross, Skye & Lochaber',\n",
       " 'Southampton Itchen',\n",
       " 'Southampton Test']"
      ]
     },
     "execution_count": 11,
     "metadata": {},
     "output_type": "execute_result"
    }
   ],
   "source": [
    "## sort values alphabetically\n",
    "wiki_df = wiki_df.sort_values('Constituency')\n",
    "## reset index values\n",
    "wiki_df = wiki_df.reset_index(drop=True)\n",
    "## rerun the original code to detect diferences\n",
    "wiki_dif = []\n",
    "for x in wiki_df.index:\n",
    "    if wiki_df.at[x,'Constituency'] != hop_df.at[x,'Member from']:\n",
    "        wiki_dif.insert(x,wiki_df.at[x,'Constituency'])\n",
    "wiki_dif"
   ]
  },
  {
   "cell_type": "code",
   "execution_count": 12,
   "metadata": {},
   "outputs": [
    {
     "data": {
      "text/plain": [
       "['Airdrie and Shotts',\n",
       " 'Birmingham, Edgbaston',\n",
       " 'Birmingham, Erdington',\n",
       " 'Birmingham, Hall Green',\n",
       " 'Birmingham, Hodge Hill',\n",
       " 'Birmingham, Ladywood',\n",
       " 'Birmingham, Northfield',\n",
       " 'Birmingham, Perry Barr',\n",
       " 'Birmingham, Selly Oak',\n",
       " 'Birmingham, Yardley',\n",
       " 'Brighton, Kemptown',\n",
       " 'Brighton, Pavilion',\n",
       " 'Ealing, Southall',\n",
       " 'Edinburgh North and Leith',\n",
       " 'Enfield, Southgate',\n",
       " 'Liverpool, Riverside',\n",
       " 'Liverpool, Walton',\n",
       " 'Liverpool, Wavertree',\n",
       " 'Liverpool, West Derby',\n",
       " 'Manchester, Gorton',\n",
       " 'Manchester, Withington',\n",
       " 'Plymouth, Moor View',\n",
       " 'Plymouth, Sutton and Devonport',\n",
       " 'Ross, Skye and Lochaber',\n",
       " 'Southampton, Itchen',\n",
       " 'Southampton, Test']"
      ]
     },
     "execution_count": 12,
     "metadata": {},
     "output_type": "execute_result"
    }
   ],
   "source": [
    "## rerunning code to compare list\n",
    "hop_dif = []\n",
    "for x in hop_df.index:\n",
    "    if hop_df.at[x,'Member from'] != wiki_df.at[x,'Constituency']:\n",
    "        hop_dif.insert(x,hop_df.at[x,'Member from'])\n",
    "hop_dif"
   ]
  },
  {
   "cell_type": "markdown",
   "metadata": {},
   "source": [
    "All values are based upon punctuation and are in the correct order therefore can be copied over via index"
   ]
  },
  {
   "cell_type": "code",
   "execution_count": 13,
   "metadata": {},
   "outputs": [],
   "source": [
    "## copies values from hop_df to wiki_df wher they are different\n",
    "for x in wiki_df.index:\n",
    "    if wiki_df.at[x,'Constituency'] != hop_df.at[x,'Member from']:\n",
    "        wiki_df.at[x,'Constituency'] = hop_df.iloc[x]['Member from']"
   ]
  },
  {
   "cell_type": "code",
   "execution_count": 14,
   "metadata": {},
   "outputs": [
    {
     "data": {
      "text/plain": [
       "[]"
      ]
     },
     "execution_count": 14,
     "metadata": {},
     "output_type": "execute_result"
    }
   ],
   "source": [
    "## final comparason to ensure no further discrepancies exist\n",
    "hop_dif = []\n",
    "for x in hop_df.index:\n",
    "    if hop_df.at[x,'Member from'] != wiki_df.at[x,'Constituency']:\n",
    "        hop_dif.insert(x,hop_df.at[x,'Member from'])\n",
    "hop_dif"
   ]
  },
  {
   "cell_type": "markdown",
   "metadata": {},
   "source": [
    "#### 6. Correcting typing information"
   ]
  },
  {
   "cell_type": "markdown",
   "metadata": {},
   "source": [
    "Next, you notice that the values in the `In constituency since` column of `wiki_df` are strings, whereas you would prefer them to be integers.\n",
    "\n",
    "Using python, update `wiki_df` so that the `In constituency since` column contains integer values rather than strings. *(6 marks)*"
   ]
  },
  {
   "cell_type": "markdown",
   "metadata": {},
   "source": [
    "Note, in python, you can call the `int` function on a single string to convert it to an integer:\n",
    "\n",
    "<code>int('1') -> 1</code>\n",
    "\n",
    "or the `astype(int)` method on a pandas Series to convert all the values to integers:\n",
    "\n",
    "<code>pd.Series(['1', '2', '3']).astype(int) -> pd.Series(1, 2, 3)"
   ]
  },
  {
   "cell_type": "markdown",
   "metadata": {},
   "source": [
    "**Hint:** If you get an error you may need to further clean your data."
   ]
  },
  {
   "cell_type": "code",
   "execution_count": 15,
   "metadata": {},
   "outputs": [],
   "source": [
    "## strips leters from the in constituency since string\n",
    "for x in wiki_df.index:\n",
    "    wiki_df.at[x, 'In constituency since'] = re.sub('[^0-9]','', wiki_df.iloc[x]['In constituency since'])\n",
    "## converts string to integer values\n",
    "wiki_df['In constituency since'] = pd.to_numeric(wiki_df['In constituency since'], errors='coerce').fillna(0).astype(np.int64)"
   ]
  },
  {
   "cell_type": "code",
   "execution_count": 16,
   "metadata": {},
   "outputs": [
    {
     "data": {
      "text/plain": [
       "MP                       object\n",
       "Constituency             object\n",
       "Party                    object\n",
       "In constituency since     int64\n",
       "dtype: object"
      ]
     },
     "execution_count": 16,
     "metadata": {},
     "output_type": "execute_result"
    }
   ],
   "source": [
    "wiki_df.dtypes"
   ]
  },
  {
   "cell_type": "markdown",
   "metadata": {},
   "source": [
    "#### 7. Combining the datasets"
   ]
  },
  {
   "cell_type": "markdown",
   "metadata": {},
   "source": [
    "Now you need to create a dataframe which contains the data in a suitable form for plotting. Create a dataframe called `plot_df`, which has three columns:\n",
    "\n",
    "1. a column containing the name of a constituency\n",
    "1. a column containing the gender of the MP sitting in that constituency\n",
    "1. a column containing the year that the MP came to that constituency\n",
    "\n",
    "You should then ensure that the dataframe is correctly populated: for each constituency, there should be a row in `plot_df` containing the constituency name, the gender of the sitting MP, and the year that the MP came to the constituency, in the appropriate columns.\n",
    "\n",
    "*(2 marks)*"
   ]
  },
  {
   "cell_type": "code",
   "execution_count": 17,
   "metadata": {},
   "outputs": [
    {
     "data": {
      "text/html": [
       "<div>\n",
       "<style scoped>\n",
       "    .dataframe tbody tr th:only-of-type {\n",
       "        vertical-align: middle;\n",
       "    }\n",
       "\n",
       "    .dataframe tbody tr th {\n",
       "        vertical-align: top;\n",
       "    }\n",
       "\n",
       "    .dataframe thead th {\n",
       "        text-align: right;\n",
       "    }\n",
       "</style>\n",
       "<table border=\"1\" class=\"dataframe\">\n",
       "  <thead>\n",
       "    <tr style=\"text-align: right;\">\n",
       "      <th></th>\n",
       "      <th>Constituency</th>\n",
       "      <th>Gender</th>\n",
       "      <th>Year</th>\n",
       "    </tr>\n",
       "  </thead>\n",
       "  <tbody>\n",
       "    <tr>\n",
       "      <th>0</th>\n",
       "      <td>Aberavon</td>\n",
       "      <td>M</td>\n",
       "      <td>2015</td>\n",
       "    </tr>\n",
       "    <tr>\n",
       "      <th>1</th>\n",
       "      <td>Aberconwy</td>\n",
       "      <td>M</td>\n",
       "      <td>2010</td>\n",
       "    </tr>\n",
       "    <tr>\n",
       "      <th>2</th>\n",
       "      <td>Aberdeen North</td>\n",
       "      <td>F</td>\n",
       "      <td>2015</td>\n",
       "    </tr>\n",
       "    <tr>\n",
       "      <th>3</th>\n",
       "      <td>Aberdeen South</td>\n",
       "      <td>M</td>\n",
       "      <td>2017</td>\n",
       "    </tr>\n",
       "    <tr>\n",
       "      <th>4</th>\n",
       "      <td>Airdrie and Shotts</td>\n",
       "      <td>M</td>\n",
       "      <td>2015</td>\n",
       "    </tr>\n",
       "  </tbody>\n",
       "</table>\n",
       "</div>"
      ],
      "text/plain": [
       "         Constituency Gender  Year\n",
       "0            Aberavon      M  2015\n",
       "1           Aberconwy      M  2010\n",
       "2      Aberdeen North      F  2015\n",
       "3      Aberdeen South      M  2017\n",
       "4  Airdrie and Shotts      M  2015"
      ]
     },
     "execution_count": 17,
     "metadata": {},
     "output_type": "execute_result"
    }
   ],
   "source": [
    "## create plot_df\n",
    "plot_df = pd.concat([hop_df['Member from'],hop_df['Gender'],wiki_df['In constituency since']], axis=1, keys=['Constituency','Gender','Year'])\n",
    "plot_df[:5]"
   ]
  },
  {
   "cell_type": "markdown",
   "metadata": {},
   "source": [
    "### Visualising the data"
   ]
  },
  {
   "cell_type": "markdown",
   "metadata": {},
   "source": [
    "For the current members of parliament, you would like to know how many MPs came into the House of Commons in each year,  how many of those were female, and how many were male."
   ]
  },
  {
   "cell_type": "markdown",
   "metadata": {},
   "source": [
    "#### 8. Plot the datasets"
   ]
  },
  {
   "cell_type": "markdown",
   "metadata": {},
   "source": [
    "For the current members of parliament, you would like to know how many MPs came into the House of Commons in each year,  how many of those were female, and how many were male.\n",
    "\n",
    "You decide to plot the data in bar chart, where:\n",
    "\n",
    "- The x axis should show years in the range covered by the dataset\n",
    "\n",
    "- The y axis should show the number of MPs admitted to the House of Commons in that year.\n",
    "\n",
    "- There should be two sets of bars: one showing the number of female MPs entering the commons that year, and one showing the number of male MPs entering the commons that year.\n",
    "\n",
    "- The graph should have an appropriate title, axis labels, and legend.\n",
    "\n",
    "Remember that for this question, your solution must be carried out in python: you must provide python commands which generate the required plot from the `plot_df` dataframe.\n",
    "\n",
    "*(12 marks)*"
   ]
  },
  {
   "cell_type": "code",
   "execution_count": 18,
   "metadata": {},
   "outputs": [
    {
     "data": {
      "image/png": "[encoded data removed]",
      "text/plain": [
       "<Figure size 1080x1080 with 1 Axes>"
      ]
     },
     "metadata": {},
     "output_type": "display_data"
    }
   ],
   "source": [
    "plot = plot_df.groupby([\"Year\",\n",
    "                        \"Gender\"])[\"Constituency\"].count().reset_index(name='count').pivot(columns='Gender', \n",
    "                                                                                                  values='count', \n",
    "                                                                                                  index='Year').fillna(0).plot.bar(width=0.9,\n",
    "                                                                                                                                   color=('r','b'),\n",
    "                                                                                                                                   figsize=(15,15))\n",
    "plt.xlabel('Year').set_fontsize(20)\n",
    "plt.ylabel('Number of MPs Elected').set_fontsize(20)\n",
    "plt.title(\"Members of parliament by Year elected and gender\").set_fontsize(20)"
   ]
  },
  {
   "cell_type": "markdown",
   "metadata": {},
   "source": [
    "From this visualisation it can be seen that the number of female mps in comparason to male mps has been increasing steadily with large increses in the female representation in th previous three general ellections"
   ]
  }
 ],
 "metadata": {
  "kernelspec": {
   "display_name": "Python 3",
   "language": "python",
   "name": "python3"
  },
  "language_info": {
   "codemirror_mode": {
    "name": "ipython",
    "version": 3
   },
   "file_extension": ".py",
   "mimetype": "text/x-python",
   "name": "python",
   "nbconvert_exporter": "python",
   "pygments_lexer": "ipython3",
   "version": "3.5.2"
  }
 },
 "nbformat": 4,
 "nbformat_minor": 2
}
