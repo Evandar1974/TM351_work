{
 "cells": [
  {
   "cell_type": "markdown",
   "metadata": {},
   "source": [
    "# TMA01, question 2 (60 marks)"
   ]
  },
  {
   "cell_type": "markdown",
   "metadata": {},
   "source": [
    "**Name**: Mark Carroll\n",
    "\n",
    "**PI**: F3189581"
   ]
  },
  {
   "cell_type": "markdown",
   "metadata": {},
   "source": [
    "This TMA question gives you the opportunity to demonstrate your mastery of the techniques in carrying out a small-scale data analysis. Specifically, this question requires you to clean two datasets, combine and reshape them, and graphically present the cleaned data. All the techniques required to answer this question can be found in Parts 2-6, and are illustrated in the associated notebooks."
   ]
  },
  {
   "cell_type": "markdown",
   "metadata": {
    "heading_collapsed": true
   },
   "source": [
    "### The task"
   ]
  },
  {
   "cell_type": "markdown",
   "metadata": {
    "hidden": true
   },
   "source": [
    "In this question, you will investigate two datasets, one which details the urban and rural populations of areas of the United Kingdom, and one which details the number of conditional cautions given in different areas of the UK. The aim is to explore the number of conditional cautions given by the police, according to the urban and rural populations of England and Wales.\n",
    "\n",
    "You should obtain the data on conditional cautions from the National Archive via the URL:\n",
    "\n",
    "http://webarchive.nationalarchives.gov.uk/20160701144433/https://www.cps.gov.uk/data/conditional_cautioning/index.html\n",
    "\n",
    "You should find the data on conditional cautioning *specifically for the period 2010-2011*.\n",
    "\n",
    "You should use the census data from the 2011 census to find the rural and urban population of counties in England:\n",
    "\n",
    "https://data.gov.uk/dataset/ed3ea343-4e92-4e16-a70d-2b8fd5da3d27/rural-urban-classification-2011-of-counties-in-england\n",
    "\n",
    "** You must produce a graphical representation of the number of conditional cautions given in each of the different counties of England and Wales, according to the rural and urban populations of those counties. You should then discuss what you believe your representation shows. **\n",
    "\n",
    "*(60 marks)*\n"
   ]
  },
  {
   "cell_type": "markdown",
   "metadata": {
    "heading_collapsed": true
   },
   "source": [
    "### Some guidance"
   ]
  },
  {
   "cell_type": "markdown",
   "metadata": {
    "hidden": true
   },
   "source": [
    "There are many ways you could approach this task, but one way might be to produce a pandas dataframe, containing the values so that for the urban and rural populations of each county in the datasets, the number of cautions given in the 2010-2011 period is listed. The final dataframe could look something like this:"
   ]
  },
  {
   "cell_type": "markdown",
   "metadata": {
    "hidden": true
   },
   "source": [
    "\n",
    "|Rural Population|Urban Population|Conditional Cautions|\n",
    "|---|---|---|\n",
    "|134847 | 45892 | 12 |\n",
    "|94781 | 213119 | 12 |\n",
    "|83722 | 92742 | 1 |\n",
    "|121445 | 77443 | 1 |\n",
    "| $\\vdots$ | $\\vdots$ | $\\vdots$ |"
   ]
  },
  {
   "cell_type": "markdown",
   "metadata": {
    "hidden": true
   },
   "source": [
    "(although note that the figures 134847, 45892, 12, ... are just for illustration; they are not necessarily the correct values for the question)."
   ]
  },
  {
   "cell_type": "markdown",
   "metadata": {
    "hidden": true
   },
   "source": [
    "You should then construct one or more plots showing the relationships between the size of the rural population, the size of the urban population and the number of conditional cautions in this period. You should also give an explanation of what you believe your plot shows."
   ]
  },
  {
   "cell_type": "markdown",
   "metadata": {
    "hidden": true
   },
   "source": [
    "It is crucial for this question to bear in mind that at each stage, you must describe what you have done in sufficient detail that someone could replicate your work. This means that you must:\n",
    "\n",
    "* explain what any code that you have written does, and execute it in the body of your submitted notebook,\n",
    "\n",
    "* identify the licenses governing the data you use, and the specific clauses in the licenses that permit their use,\n",
    "\n",
    "* where you have used tools that are not accessed via python or the notebooks (such as OpenRefine), you should include some screenshots to show what you did, and to help the marker understand your processes,\n",
    "\n",
    "* clearly explain any assumptions or simplifications that you have made about the data, and\n",
    "\n",
    "* interpret your final results in the context of these assumptions and simplifications.\n",
    "\n",
    "Note that, unlike question 1 of this TMA, you do not have to use python to carry out your analyses. However, as stated \n",
    "above, if you do not use python, you should provide screenshots of the tools you did use in order to show your working.\n"
   ]
  },
  {
   "cell_type": "markdown",
   "metadata": {
    "hidden": true
   },
   "source": [
    "Some guidance on presentation:\n",
    "\n",
    "* You must present your answer in this notebook.\n",
    "    \n",
    "* Do not put too much text or code into each notebook cell. Text or markdown cells should contain one or two paragraphs at most, code cells should not contain more than about ten lines of python.\n",
    "\n",
    "* Ensure that in your code, you use meaningful variable names.\n",
    "\n",
    "* You should have a specific cell whose return value is the dataframe described above.\n",
    "\n",
    "* You should have a specific cell which plots the data in the dataframe."
   ]
  },
  {
   "cell_type": "markdown",
   "metadata": {
    "heading_collapsed": true
   },
   "source": [
    "### Structuring your answer"
   ]
  },
  {
   "cell_type": "markdown",
   "metadata": {
    "hidden": true
   },
   "source": [
    "This question requires that you complete a number of tasks:\n",
    "\n",
    "1. You should check the licences for the datasets, and explain why you are permitted to carry out your chosen analysis.\n",
    "\n",
    "2. You need to import the two datasets.\n",
    "\n",
    "3. You must examine and clean the datasets to allow you to carry out the visualisation. You should consider questions such as:\n",
    "\n",
    "    * Is there ambiguity in the dataset? (That is, are there aspects of the data which are unclear, and not documented?)\n",
    "    \n",
    "    * Is any data missing from the datasets?\n",
    "    \n",
    "    * Is there any dirtiness in the datasets, or inconsistency in how the data is represented between the two datasets?\n",
    "    \n",
    "    In each of these cases, you should show whether or not the given problem with the data exists, and if so, how you have handled it.\n",
    "\n",
    "4. You will need to capture the data in a dataframe in the form described above.\n",
    "\n",
    "5. Finally, you should select a visualisation method for the data in the dataset, and present a plot of the data, with a description of how you think it should be interpreted. We are not prescribing a particular choice of visualisation: you should choose one that you think is appropriate.\n"
   ]
  },
  {
   "cell_type": "markdown",
   "metadata": {
    "hidden": true
   },
   "source": [
    "We have provided a structure for your answer. The headings do not represent equal amounts of work, because different datasets and different tasks require the effort to be spent in different places. Also, you may need to use several cells to address a particular heading. For example, you would expect to present substantially more work on identifying and handling the missing data, than on importing the datasets. "
   ]
  },
  {
   "cell_type": "markdown",
   "metadata": {},
   "source": [
    "### Your answer"
   ]
  },
  {
   "cell_type": "markdown",
   "metadata": {},
   "source": [
    "#### 1. Identify licensing terms and conditions"
   ]
  },
  {
   "cell_type": "markdown",
   "metadata": {},
   "source": [
    "\n",
    "The conditional cautions data is made available for use under the Open government licence 2.0 Via Crown Copyright allowing us to reuse the information free of charge and encouraging links to the website which are included above as well as at the end of my interpretation.\n",
    "\n",
    "The census data for 2011 is available for use under the open government licence 3.0 which allows us to copy, publish, distribute, transmit, adapt and exploit the information as long as we acknowledge the source of the data which is liked above and also credited at the end of my interpretation<span class=\"mark\">&#10004;</span>\n"
   ]
  },
  {
   "cell_type": "markdown",
   "metadata": {},
   "source": [
    "#### 2. Import the two datasets"
   ]
  },
  {
   "cell_type": "code",
   "execution_count": 2,
   "metadata": {},
   "outputs": [],
   "source": [
    "## import the imports\n",
    "import pandas as pd\n",
    "import numpy as np\n",
    "import re\n",
    "import glob\n",
    "import matplotlib.pyplot as plt"
   ]
  },
  {
   "cell_type": "code",
   "execution_count": 3,
   "metadata": {},
   "outputs": [
    {
     "name": "stdout",
     "output_type": "stream",
     "text": [
      "total 124\r\n",
      "-rwxrwxrwx 1 oustudent users 29172 Dec 13 19:25 hop_mps.csv\r\n",
      "-rwxrwxrwx 1 oustudent users  1722 Dec 13 19:25 Q1_10-11_Cond_Caut_No_Administered.csv\r\n",
      "-rwxrwxrwx 1 oustudent users  1708 Dec 13 19:25 Q2_10-11_Cond_Caut_No_Administered.csv\r\n",
      "-rwxrwxrwx 1 oustudent users  1703 Dec 13 19:25 Q3_10-11_Cond_Caut_No_Administered.csv\r\n",
      "-rwxrwxrwx 1 oustudent users  1463 Dec 13 19:25 Q4_10-11_Cond_Caut_post_charge.csv\r\n",
      "-rwxrwxrwx 1 oustudent users  1694 Dec 13 19:25 Q4_10-11_Cond_Caut_pre_charge.csv\r\n",
      "-rwxrwxrwx 1 oustudent users  4714 Dec 13 19:25 Rur_Urb_Class_2011_of_Ctys_in_England.csv\r\n",
      "-rwxrwxrwx 1 oustudent users 31771 Dec 13 19:25 wiki_new.csv\r\n",
      "-rwxrwxrwx 1 oustudent users 31241 Dec 13 19:25 wikipedia_mps.csv\r\n"
     ]
    }
   ],
   "source": [
    "## check file names in the folder\n",
    "!ls -l data/"
   ]
  },
  {
   "cell_type": "code",
   "execution_count": 4,
   "metadata": {},
   "outputs": [
    {
     "name": "stdout",
     "output_type": "stream",
     "text": [
      "head: cannot open 'data/Q1_10-11_Conditional_Cautions_No_Administered.csv' for reading: No such file or directory\r\n"
     ]
    }
   ],
   "source": [
    "## check thge format of the csv files\n",
    "!head -n 5 'data/Q1_10-11_Conditional_Cautions_No_Administered.csv'"
   ]
  },
  {
   "cell_type": "code",
   "execution_count": 5,
   "metadata": {},
   "outputs": [],
   "source": [
    "##load the csv files into the datasets\n",
    "CCQ1 = pd.read_csv('data/Q1_10-11_Cond_Caut_No_Administered.csv', encoding=\"utf-8\")\n",
    "CCQ2 = pd.read_csv('data/Q2_10-11_Cond_Caut_No_Administered.csv', encoding=\"utf-8\")\n",
    "CCQ3 = pd.read_csv('data/Q3_10-11_Cond_Caut_No_Administered.csv', encoding=\"utf-8\")\n",
    "CCQ4PR = pd.read_csv('data/Q4_10-11_Cond_Caut_pre_charge.csv', encoding=\"utf-8\")\n",
    "CCQ4PO = pd.read_csv('data/Q4_10-11_Cond_Caut_post_charge.csv', encoding=\"utf-8\")"
   ]
  },
  {
   "cell_type": "code",
   "execution_count": 6,
   "metadata": {},
   "outputs": [],
   "source": [
    "## diferentiate the pre and post colums in respective datasets\n",
    "CCQ4PO =CCQ4PO.rename(columns={'Q4 2010/2011' : 'Q4 2010/2011 Post'})\n",
    "CCQ4PR = CCQ4PR.rename(columns={'Q4 2010/2011' : 'Q4 2010/2011 Pre'})"
   ]
  },
  {
   "cell_type": "code",
   "execution_count": 7,
   "metadata": {},
   "outputs": [
    {
     "data": {
      "text/html": [
       "<div>\n",
       "<style scoped>\n",
       "    .dataframe tbody tr th:only-of-type {\n",
       "        vertical-align: middle;\n",
       "    }\n",
       "\n",
       "    .dataframe tbody tr th {\n",
       "        vertical-align: top;\n",
       "    }\n",
       "\n",
       "    .dataframe thead th {\n",
       "        text-align: right;\n",
       "    }\n",
       "</style>\n",
       "<table border=\"1\" class=\"dataframe\">\n",
       "  <thead>\n",
       "    <tr style=\"text-align: right;\">\n",
       "      <th></th>\n",
       "      <th>Area</th>\n",
       "      <th>Current Quarter Month 1</th>\n",
       "      <th>Current Quarter Month 2</th>\n",
       "      <th>Current Quarter Month 3</th>\n",
       "      <th>Q1 2010/2011</th>\n",
       "      <th>Previous Quarter Month 1</th>\n",
       "      <th>Previous Quarter Month 2</th>\n",
       "      <th>Previous Quarter Month 3</th>\n",
       "      <th>Q1 2009/2010</th>\n",
       "    </tr>\n",
       "  </thead>\n",
       "  <tbody>\n",
       "    <tr>\n",
       "      <th>0</th>\n",
       "      <td>Avon &amp; Somerset</td>\n",
       "      <td>22</td>\n",
       "      <td>15</td>\n",
       "      <td>16</td>\n",
       "      <td>53</td>\n",
       "      <td>24</td>\n",
       "      <td>34</td>\n",
       "      <td>34</td>\n",
       "      <td>92</td>\n",
       "    </tr>\n",
       "    <tr>\n",
       "      <th>1</th>\n",
       "      <td>Bedfordshire</td>\n",
       "      <td>11</td>\n",
       "      <td>10</td>\n",
       "      <td>9</td>\n",
       "      <td>30</td>\n",
       "      <td>7</td>\n",
       "      <td>7</td>\n",
       "      <td>7</td>\n",
       "      <td>21</td>\n",
       "    </tr>\n",
       "    <tr>\n",
       "      <th>2</th>\n",
       "      <td>British Transport Police</td>\n",
       "      <td>4</td>\n",
       "      <td>7</td>\n",
       "      <td>4</td>\n",
       "      <td>15</td>\n",
       "      <td>7</td>\n",
       "      <td>12</td>\n",
       "      <td>12</td>\n",
       "      <td>31</td>\n",
       "    </tr>\n",
       "  </tbody>\n",
       "</table>\n",
       "</div>"
      ],
      "text/plain": [
       "                      Area   Current Quarter Month 1  Current Quarter Month 2  \\\n",
       "0           Avon & Somerset                       22                       15   \n",
       "1              Bedfordshire                       11                       10   \n",
       "2  British Transport Police                        4                        7   \n",
       "\n",
       "   Current Quarter Month 3  Q1 2010/2011  Previous Quarter Month 1  \\\n",
       "0                       16            53                        24   \n",
       "1                        9            30                         7   \n",
       "2                        4            15                         7   \n",
       "\n",
       "   Previous Quarter Month 2  Previous Quarter Month 3  Q1 2009/2010  \n",
       "0                        34                        34            92  \n",
       "1                         7                         7            21  \n",
       "2                        12                        12            31  "
      ]
     },
     "execution_count": 7,
     "metadata": {},
     "output_type": "execute_result"
    }
   ],
   "source": [
    "CCQ1[:3]"
   ]
  },
  {
   "cell_type": "code",
   "execution_count": 8,
   "metadata": {},
   "outputs": [],
   "source": [
    "## strip the pertinent data out of all the dtatsets and combine into the one used for the study\n",
    "cond_caut_2010_11 = pd.concat([CCQ1['Area '],CCQ1['Q1 2010/2011'],CCQ2['Q2 2010/2011'],CCQ3['Q3 2010/2011'],CCQ4PR['Q4 2010/2011 Pre'],CCQ4PO['Q4 2010/2011 Post']], axis=1, keys=['Area','Q1 2010/2011','Q2 2010/2011','Q3 2010/2011','Q4 2010/2011 Pre','Q4 2010/2011 Post'])"
   ]
  },
  {
   "cell_type": "code",
   "execution_count": 9,
   "metadata": {},
   "outputs": [],
   "source": [
    "## index on Area\n",
    "cond_caut_2010_11.set_index('Area', inplace=True)"
   ]
  },
  {
   "cell_type": "markdown",
   "metadata": {},
   "source": [
    "<div class=\"mark\">\n",
    "It's a good idea to test each step as you you</div><i class=\"fa fa-lightbulb-o \"></i>"
   ]
  },
  {
   "cell_type": "code",
   "execution_count": 10,
   "metadata": {},
   "outputs": [
    {
     "data": {
      "text/html": [
       "<div>\n",
       "<style scoped>\n",
       "    .dataframe tbody tr th:only-of-type {\n",
       "        vertical-align: middle;\n",
       "    }\n",
       "\n",
       "    .dataframe tbody tr th {\n",
       "        vertical-align: top;\n",
       "    }\n",
       "\n",
       "    .dataframe thead th {\n",
       "        text-align: right;\n",
       "    }\n",
       "</style>\n",
       "<table border=\"1\" class=\"dataframe\">\n",
       "  <thead>\n",
       "    <tr style=\"text-align: right;\">\n",
       "      <th></th>\n",
       "      <th>Q1 2010/2011</th>\n",
       "      <th>Q2 2010/2011</th>\n",
       "      <th>Q3 2010/2011</th>\n",
       "      <th>Q4 2010/2011 Pre</th>\n",
       "      <th>Q4 2010/2011 Post</th>\n",
       "    </tr>\n",
       "    <tr>\n",
       "      <th>Area</th>\n",
       "      <th></th>\n",
       "      <th></th>\n",
       "      <th></th>\n",
       "      <th></th>\n",
       "      <th></th>\n",
       "    </tr>\n",
       "  </thead>\n",
       "  <tbody>\n",
       "    <tr>\n",
       "      <th>Avon &amp; Somerset</th>\n",
       "      <td>53</td>\n",
       "      <td>61</td>\n",
       "      <td>56</td>\n",
       "      <td>45</td>\n",
       "      <td>0</td>\n",
       "    </tr>\n",
       "    <tr>\n",
       "      <th>Bedfordshire</th>\n",
       "      <td>30</td>\n",
       "      <td>42</td>\n",
       "      <td>50</td>\n",
       "      <td>42</td>\n",
       "      <td>0</td>\n",
       "    </tr>\n",
       "    <tr>\n",
       "      <th>British Transport Police</th>\n",
       "      <td>15</td>\n",
       "      <td>25</td>\n",
       "      <td>26</td>\n",
       "      <td>22</td>\n",
       "      <td>6</td>\n",
       "    </tr>\n",
       "    <tr>\n",
       "      <th>Cambridgeshire</th>\n",
       "      <td>104</td>\n",
       "      <td>133</td>\n",
       "      <td>125</td>\n",
       "      <td>96</td>\n",
       "      <td>11</td>\n",
       "    </tr>\n",
       "    <tr>\n",
       "      <th>Cheshire</th>\n",
       "      <td>42</td>\n",
       "      <td>39</td>\n",
       "      <td>31</td>\n",
       "      <td>30</td>\n",
       "      <td>4</td>\n",
       "    </tr>\n",
       "  </tbody>\n",
       "</table>\n",
       "</div>"
      ],
      "text/plain": [
       "                          Q1 2010/2011  Q2 2010/2011  Q3 2010/2011  \\\n",
       "Area                                                                 \n",
       "Avon & Somerset                     53            61            56   \n",
       "Bedfordshire                        30            42            50   \n",
       "British Transport Police            15            25            26   \n",
       "Cambridgeshire                     104           133           125   \n",
       "Cheshire                            42            39            31   \n",
       "\n",
       "                          Q4 2010/2011 Pre  Q4 2010/2011 Post  \n",
       "Area                                                           \n",
       "Avon & Somerset                         45                  0  \n",
       "Bedfordshire                            42                  0  \n",
       "British Transport Police                22                  6  \n",
       "Cambridgeshire                          96                 11  \n",
       "Cheshire                                30                  4  "
      ]
     },
     "execution_count": 10,
     "metadata": {},
     "output_type": "execute_result"
    }
   ],
   "source": [
    "# Charly says\n",
    "cond_caut_2010_11 [:5]\n"
   ]
  },
  {
   "cell_type": "code",
   "execution_count": 11,
   "metadata": {},
   "outputs": [
    {
     "ename": "FileNotFoundError",
     "evalue": "File b'data/Rur_Urb_Class_2011_of_Ctyses_in_England.csv' does not exist",
     "output_type": "error",
     "traceback": [
      "\u001b[0;31m---------------------------------------------------------------------------\u001b[0m",
      "\u001b[0;31mFileNotFoundError\u001b[0m                         Traceback (most recent call last)",
      "\u001b[0;32m<ipython-input-11-8a62a0de3a5e>\u001b[0m in \u001b[0;36m<module>\u001b[0;34m()\u001b[0m\n\u001b[1;32m      1\u001b[0m \u001b[0;31m## load census csv data into a datset\u001b[0m\u001b[0;34m\u001b[0m\u001b[0;34m\u001b[0m\u001b[0m\n\u001b[0;32m----> 2\u001b[0;31m \u001b[0mrural_urban_2011\u001b[0m \u001b[0;34m=\u001b[0m \u001b[0mpd\u001b[0m\u001b[0;34m.\u001b[0m\u001b[0mread_csv\u001b[0m\u001b[0;34m(\u001b[0m\u001b[0;34m'data/Rur_Urb_Class_2011_of_Ctyses_in_England.csv'\u001b[0m\u001b[0;34m,\u001b[0m \u001b[0mencoding\u001b[0m\u001b[0;34m=\u001b[0m\u001b[0;34m\"utf-8\"\u001b[0m\u001b[0;34m)\u001b[0m\u001b[0;34m\u001b[0m\u001b[0m\n\u001b[0m",
      "\u001b[0;32m/usr/local/lib/python3.5/dist-packages/pandas/io/parsers.py\u001b[0m in \u001b[0;36mparser_f\u001b[0;34m(filepath_or_buffer, sep, delimiter, header, names, index_col, usecols, squeeze, prefix, mangle_dupe_cols, dtype, engine, converters, true_values, false_values, skipinitialspace, skiprows, nrows, na_values, keep_default_na, na_filter, verbose, skip_blank_lines, parse_dates, infer_datetime_format, keep_date_col, date_parser, dayfirst, iterator, chunksize, compression, thousands, decimal, lineterminator, quotechar, quoting, escapechar, comment, encoding, dialect, tupleize_cols, error_bad_lines, warn_bad_lines, skipfooter, doublequote, delim_whitespace, low_memory, memory_map, float_precision)\u001b[0m\n\u001b[1;32m    676\u001b[0m                     skip_blank_lines=skip_blank_lines)\n\u001b[1;32m    677\u001b[0m \u001b[0;34m\u001b[0m\u001b[0m\n\u001b[0;32m--> 678\u001b[0;31m         \u001b[0;32mreturn\u001b[0m \u001b[0m_read\u001b[0m\u001b[0;34m(\u001b[0m\u001b[0mfilepath_or_buffer\u001b[0m\u001b[0;34m,\u001b[0m \u001b[0mkwds\u001b[0m\u001b[0;34m)\u001b[0m\u001b[0;34m\u001b[0m\u001b[0m\n\u001b[0m\u001b[1;32m    679\u001b[0m \u001b[0;34m\u001b[0m\u001b[0m\n\u001b[1;32m    680\u001b[0m     \u001b[0mparser_f\u001b[0m\u001b[0;34m.\u001b[0m\u001b[0m__name__\u001b[0m \u001b[0;34m=\u001b[0m \u001b[0mname\u001b[0m\u001b[0;34m\u001b[0m\u001b[0m\n",
      "\u001b[0;32m/usr/local/lib/python3.5/dist-packages/pandas/io/parsers.py\u001b[0m in \u001b[0;36m_read\u001b[0;34m(filepath_or_buffer, kwds)\u001b[0m\n\u001b[1;32m    438\u001b[0m \u001b[0;34m\u001b[0m\u001b[0m\n\u001b[1;32m    439\u001b[0m     \u001b[0;31m# Create the parser.\u001b[0m\u001b[0;34m\u001b[0m\u001b[0;34m\u001b[0m\u001b[0m\n\u001b[0;32m--> 440\u001b[0;31m     \u001b[0mparser\u001b[0m \u001b[0;34m=\u001b[0m \u001b[0mTextFileReader\u001b[0m\u001b[0;34m(\u001b[0m\u001b[0mfilepath_or_buffer\u001b[0m\u001b[0;34m,\u001b[0m \u001b[0;34m**\u001b[0m\u001b[0mkwds\u001b[0m\u001b[0;34m)\u001b[0m\u001b[0;34m\u001b[0m\u001b[0m\n\u001b[0m\u001b[1;32m    441\u001b[0m \u001b[0;34m\u001b[0m\u001b[0m\n\u001b[1;32m    442\u001b[0m     \u001b[0;32mif\u001b[0m \u001b[0mchunksize\u001b[0m \u001b[0;32mor\u001b[0m \u001b[0miterator\u001b[0m\u001b[0;34m:\u001b[0m\u001b[0;34m\u001b[0m\u001b[0m\n",
      "\u001b[0;32m/usr/local/lib/python3.5/dist-packages/pandas/io/parsers.py\u001b[0m in \u001b[0;36m__init__\u001b[0;34m(self, f, engine, **kwds)\u001b[0m\n\u001b[1;32m    785\u001b[0m             \u001b[0mself\u001b[0m\u001b[0;34m.\u001b[0m\u001b[0moptions\u001b[0m\u001b[0;34m[\u001b[0m\u001b[0;34m'has_index_names'\u001b[0m\u001b[0;34m]\u001b[0m \u001b[0;34m=\u001b[0m \u001b[0mkwds\u001b[0m\u001b[0;34m[\u001b[0m\u001b[0;34m'has_index_names'\u001b[0m\u001b[0;34m]\u001b[0m\u001b[0;34m\u001b[0m\u001b[0m\n\u001b[1;32m    786\u001b[0m \u001b[0;34m\u001b[0m\u001b[0m\n\u001b[0;32m--> 787\u001b[0;31m         \u001b[0mself\u001b[0m\u001b[0;34m.\u001b[0m\u001b[0m_make_engine\u001b[0m\u001b[0;34m(\u001b[0m\u001b[0mself\u001b[0m\u001b[0;34m.\u001b[0m\u001b[0mengine\u001b[0m\u001b[0;34m)\u001b[0m\u001b[0;34m\u001b[0m\u001b[0m\n\u001b[0m\u001b[1;32m    788\u001b[0m \u001b[0;34m\u001b[0m\u001b[0m\n\u001b[1;32m    789\u001b[0m     \u001b[0;32mdef\u001b[0m \u001b[0mclose\u001b[0m\u001b[0;34m(\u001b[0m\u001b[0mself\u001b[0m\u001b[0;34m)\u001b[0m\u001b[0;34m:\u001b[0m\u001b[0;34m\u001b[0m\u001b[0m\n",
      "\u001b[0;32m/usr/local/lib/python3.5/dist-packages/pandas/io/parsers.py\u001b[0m in \u001b[0;36m_make_engine\u001b[0;34m(self, engine)\u001b[0m\n\u001b[1;32m   1012\u001b[0m     \u001b[0;32mdef\u001b[0m \u001b[0m_make_engine\u001b[0m\u001b[0;34m(\u001b[0m\u001b[0mself\u001b[0m\u001b[0;34m,\u001b[0m \u001b[0mengine\u001b[0m\u001b[0;34m=\u001b[0m\u001b[0;34m'c'\u001b[0m\u001b[0;34m)\u001b[0m\u001b[0;34m:\u001b[0m\u001b[0;34m\u001b[0m\u001b[0m\n\u001b[1;32m   1013\u001b[0m         \u001b[0;32mif\u001b[0m \u001b[0mengine\u001b[0m \u001b[0;34m==\u001b[0m \u001b[0;34m'c'\u001b[0m\u001b[0;34m:\u001b[0m\u001b[0;34m\u001b[0m\u001b[0m\n\u001b[0;32m-> 1014\u001b[0;31m             \u001b[0mself\u001b[0m\u001b[0;34m.\u001b[0m\u001b[0m_engine\u001b[0m \u001b[0;34m=\u001b[0m \u001b[0mCParserWrapper\u001b[0m\u001b[0;34m(\u001b[0m\u001b[0mself\u001b[0m\u001b[0;34m.\u001b[0m\u001b[0mf\u001b[0m\u001b[0;34m,\u001b[0m \u001b[0;34m**\u001b[0m\u001b[0mself\u001b[0m\u001b[0;34m.\u001b[0m\u001b[0moptions\u001b[0m\u001b[0;34m)\u001b[0m\u001b[0;34m\u001b[0m\u001b[0m\n\u001b[0m\u001b[1;32m   1015\u001b[0m         \u001b[0;32melse\u001b[0m\u001b[0;34m:\u001b[0m\u001b[0;34m\u001b[0m\u001b[0m\n\u001b[1;32m   1016\u001b[0m             \u001b[0;32mif\u001b[0m \u001b[0mengine\u001b[0m \u001b[0;34m==\u001b[0m \u001b[0;34m'python'\u001b[0m\u001b[0;34m:\u001b[0m\u001b[0;34m\u001b[0m\u001b[0m\n",
      "\u001b[0;32m/usr/local/lib/python3.5/dist-packages/pandas/io/parsers.py\u001b[0m in \u001b[0;36m__init__\u001b[0;34m(self, src, **kwds)\u001b[0m\n\u001b[1;32m   1706\u001b[0m         \u001b[0mkwds\u001b[0m\u001b[0;34m[\u001b[0m\u001b[0;34m'usecols'\u001b[0m\u001b[0;34m]\u001b[0m \u001b[0;34m=\u001b[0m \u001b[0mself\u001b[0m\u001b[0;34m.\u001b[0m\u001b[0musecols\u001b[0m\u001b[0;34m\u001b[0m\u001b[0m\n\u001b[1;32m   1707\u001b[0m \u001b[0;34m\u001b[0m\u001b[0m\n\u001b[0;32m-> 1708\u001b[0;31m         \u001b[0mself\u001b[0m\u001b[0;34m.\u001b[0m\u001b[0m_reader\u001b[0m \u001b[0;34m=\u001b[0m \u001b[0mparsers\u001b[0m\u001b[0;34m.\u001b[0m\u001b[0mTextReader\u001b[0m\u001b[0;34m(\u001b[0m\u001b[0msrc\u001b[0m\u001b[0;34m,\u001b[0m \u001b[0;34m**\u001b[0m\u001b[0mkwds\u001b[0m\u001b[0;34m)\u001b[0m\u001b[0;34m\u001b[0m\u001b[0m\n\u001b[0m\u001b[1;32m   1709\u001b[0m \u001b[0;34m\u001b[0m\u001b[0m\n\u001b[1;32m   1710\u001b[0m         \u001b[0mpassed_names\u001b[0m \u001b[0;34m=\u001b[0m \u001b[0mself\u001b[0m\u001b[0;34m.\u001b[0m\u001b[0mnames\u001b[0m \u001b[0;32mis\u001b[0m \u001b[0;32mNone\u001b[0m\u001b[0;34m\u001b[0m\u001b[0m\n",
      "\u001b[0;32mpandas/_libs/parsers.pyx\u001b[0m in \u001b[0;36mpandas._libs.parsers.TextReader.__cinit__\u001b[0;34m()\u001b[0m\n",
      "\u001b[0;32mpandas/_libs/parsers.pyx\u001b[0m in \u001b[0;36mpandas._libs.parsers.TextReader._setup_parser_source\u001b[0;34m()\u001b[0m\n",
      "\u001b[0;31mFileNotFoundError\u001b[0m: File b'data/Rur_Urb_Class_2011_of_Ctyses_in_England.csv' does not exist"
     ]
    }
   ],
   "source": [
    "## load census csv data into a datset\n",
    "rural_urban_2011 = pd.read_csv('data/Rur_Urb_Class_2011_of_Ctyses_in_England.csv', encoding=\"utf-8\")"
   ]
  },
  {
   "cell_type": "markdown",
   "metadata": {},
   "source": [
    "<div class=\"mark\">\n",
    "There is a spelling error in the file name</div><i class=\"fa fa-lightbulb-o \"></i>"
   ]
  },
  {
   "cell_type": "code",
   "execution_count": 10,
   "metadata": {},
   "outputs": [],
   "source": [
    "# Charly says:\n",
    "rural_urban_2011 = pd.read_csv('data/Rur_Urb_Class_2011_of_Ctys_in_England.csv', encoding=\"utf-8\")\n"
   ]
  },
  {
   "cell_type": "code",
   "execution_count": 12,
   "metadata": {
    "scrolled": true
   },
   "outputs": [
    {
     "data": {
      "text/html": [
       "<div>\n",
       "<style scoped>\n",
       "    .dataframe tbody tr th:only-of-type {\n",
       "        vertical-align: middle;\n",
       "    }\n",
       "\n",
       "    .dataframe tbody tr th {\n",
       "        vertical-align: top;\n",
       "    }\n",
       "\n",
       "    .dataframe thead th {\n",
       "        text-align: right;\n",
       "    }\n",
       "</style>\n",
       "<table border=\"1\" class=\"dataframe\">\n",
       "  <thead>\n",
       "    <tr style=\"text-align: right;\">\n",
       "      <th></th>\n",
       "      <th>CTY11CD</th>\n",
       "      <th>CTYNM</th>\n",
       "      <th>Total_Rural_population_2011</th>\n",
       "      <th>Urban_City_and_Town_population_2011</th>\n",
       "      <th>Urban_Minor_Conurbation_population_2011</th>\n",
       "      <th>Urban_Major_Conurbation_population_2011</th>\n",
       "      <th>Total_Urban_population_2011</th>\n",
       "      <th>Total_population_2011</th>\n",
       "      <th>Hub_towns_rural_related_population_included_in_Urban_population_2011</th>\n",
       "      <th>Rural_including_hub_towns_rural_&amp;_rural_related_population_2011</th>\n",
       "      <th>Rural_including_hub_towns_rural_&amp;_rural_related_population_as_%_of_Total_population_2011</th>\n",
       "      <th>RUC11CD</th>\n",
       "      <th>RUC11</th>\n",
       "      <th>Broad_RUC11</th>\n",
       "      <th>OBJECTID</th>\n",
       "    </tr>\n",
       "  </thead>\n",
       "  <tbody>\n",
       "    <tr>\n",
       "      <th>0</th>\n",
       "      <td>E10000002</td>\n",
       "      <td>Buckinghamshire</td>\n",
       "      <td>165740</td>\n",
       "      <td>338097</td>\n",
       "      <td>0</td>\n",
       "      <td>1446</td>\n",
       "      <td>339543</td>\n",
       "      <td>505283</td>\n",
       "      <td>30969</td>\n",
       "      <td>196709</td>\n",
       "      <td>38.93</td>\n",
       "      <td>3</td>\n",
       "      <td>Urban with Significant Rural (rural including ...</td>\n",
       "      <td>Urban with Significant Rural</td>\n",
       "      <td>0</td>\n",
       "    </tr>\n",
       "    <tr>\n",
       "      <th>1</th>\n",
       "      <td>E10000003</td>\n",
       "      <td>Cambridgeshire</td>\n",
       "      <td>292633</td>\n",
       "      <td>328577</td>\n",
       "      <td>0</td>\n",
       "      <td>0</td>\n",
       "      <td>328577</td>\n",
       "      <td>621210</td>\n",
       "      <td>108782</td>\n",
       "      <td>401415</td>\n",
       "      <td>64.61</td>\n",
       "      <td>2</td>\n",
       "      <td>Largely Rural (rural including hub towns 50-79%)</td>\n",
       "      <td>Predominantly Rural</td>\n",
       "      <td>1</td>\n",
       "    </tr>\n",
       "    <tr>\n",
       "      <th>2</th>\n",
       "      <td>E10000006</td>\n",
       "      <td>Cumbria</td>\n",
       "      <td>267819</td>\n",
       "      <td>232039</td>\n",
       "      <td>0</td>\n",
       "      <td>0</td>\n",
       "      <td>232039</td>\n",
       "      <td>499858</td>\n",
       "      <td>107704</td>\n",
       "      <td>375523</td>\n",
       "      <td>75.12</td>\n",
       "      <td>2</td>\n",
       "      <td>Largely Rural (rural including hub towns 50-79%)</td>\n",
       "      <td>Predominantly Rural</td>\n",
       "      <td>2</td>\n",
       "    </tr>\n",
       "  </tbody>\n",
       "</table>\n",
       "</div>"
      ],
      "text/plain": [
       "     CTY11CD            CTYNM  Total_Rural_population_2011  \\\n",
       "0  E10000002  Buckinghamshire                       165740   \n",
       "1  E10000003   Cambridgeshire                       292633   \n",
       "2  E10000006          Cumbria                       267819   \n",
       "\n",
       "   Urban_City_and_Town_population_2011  \\\n",
       "0                               338097   \n",
       "1                               328577   \n",
       "2                               232039   \n",
       "\n",
       "   Urban_Minor_Conurbation_population_2011  \\\n",
       "0                                        0   \n",
       "1                                        0   \n",
       "2                                        0   \n",
       "\n",
       "   Urban_Major_Conurbation_population_2011  Total_Urban_population_2011  \\\n",
       "0                                     1446                       339543   \n",
       "1                                        0                       328577   \n",
       "2                                        0                       232039   \n",
       "\n",
       "   Total_population_2011  \\\n",
       "0                 505283   \n",
       "1                 621210   \n",
       "2                 499858   \n",
       "\n",
       "   Hub_towns_rural_related_population_included_in_Urban_population_2011  \\\n",
       "0                                              30969                      \n",
       "1                                             108782                      \n",
       "2                                             107704                      \n",
       "\n",
       "   Rural_including_hub_towns_rural_&_rural_related_population_2011  \\\n",
       "0                                             196709                 \n",
       "1                                             401415                 \n",
       "2                                             375523                 \n",
       "\n",
       "   Rural_including_hub_towns_rural_&_rural_related_population_as_%_of_Total_population_2011  \\\n",
       "0                                              38.93                                          \n",
       "1                                              64.61                                          \n",
       "2                                              75.12                                          \n",
       "\n",
       "   RUC11CD                                              RUC11  \\\n",
       "0        3  Urban with Significant Rural (rural including ...   \n",
       "1        2  Largely Rural (rural including hub towns 50-79%)    \n",
       "2        2  Largely Rural (rural including hub towns 50-79%)    \n",
       "\n",
       "                    Broad_RUC11  OBJECTID  \n",
       "0  Urban with Significant Rural         0  \n",
       "1           Predominantly Rural         1  \n",
       "2           Predominantly Rural         2  "
      ]
     },
     "execution_count": 12,
     "metadata": {},
     "output_type": "execute_result"
    }
   ],
   "source": [
    "rural_urban_2011[:3]"
   ]
  },
  {
   "cell_type": "code",
   "execution_count": 13,
   "metadata": {},
   "outputs": [],
   "source": [
    "##trim out uneccesary data\n",
    "rural_urban_2011 = rural_urban_2011[['CTYNM','Total_Rural_population_2011','Total_Urban_population_2011','Total_population_2011']]"
   ]
  },
  {
   "cell_type": "code",
   "execution_count": 14,
   "metadata": {},
   "outputs": [],
   "source": [
    "##make the county name the index\n",
    "rural_urban_2011.set_index('CTYNM', inplace=True)"
   ]
  },
  {
   "cell_type": "markdown",
   "metadata": {},
   "source": [
    "#### 3. Identify and handle ambiguity and vagueness"
   ]
  },
  {
   "cell_type": "markdown",
   "metadata": {},
   "source": [
    "\n",
    "When obtaining the data, it was found that the q4 data had been split into two values these where added as separate columns and the total includes both values. Furthermore, an investigation into the Constabularies found that some included multiple counties. Therefore, these should be merged and be renamed to allow them to be merged with the constabularies data frame. Furthermore, in the initial loading of the data frames, the pre charge and post-charge caution numbers for the fourth quarter were renamed to avoid naming conflicts as well as the quarterly data being merged into its data frame.<span class=\"mark\">&#10004; Good, but are here any risks in doing any of this? Do the following mergers of counties exactly match the police areas? </span></div>"
   ]
  },
  {
   "cell_type": "code",
   "execution_count": 15,
   "metadata": {},
   "outputs": [],
   "source": [
    "## merge and rename rows to the correct constabulary names\n",
    "## Thames valley\n",
    "rural_urban_2011.loc['Buckinghamshire'] += rural_urban_2011.loc['Oxfordshire']\n",
    "rural_urban_2011.drop(['Oxfordshire'], inplace=True)\n",
    "rural_urban_2011.rename(index={'Buckinghamshire':'Thames Valley'},inplace=True)"
   ]
  },
  {
   "cell_type": "code",
   "execution_count": 16,
   "metadata": {},
   "outputs": [],
   "source": [
    "## Avon & Somerset\n",
    "rural_urban_2011.rename(index={'Somerset':'Avon & Somerset'},inplace=True)"
   ]
  },
  {
   "cell_type": "code",
   "execution_count": 17,
   "metadata": {},
   "outputs": [],
   "source": [
    "## Devon and cornwall\n",
    "rural_urban_2011.rename(index={'Devon':'Devon and Cornwall'},inplace=True)"
   ]
  },
  {
   "cell_type": "code",
   "execution_count": 18,
   "metadata": {},
   "outputs": [],
   "source": [
    "## Sussex\n",
    "rural_urban_2011.loc['East Sussex'] += rural_urban_2011.loc['West Sussex']\n",
    "rural_urban_2011.drop(['West Sussex'], inplace=True)\n",
    "rural_urban_2011.rename(index={'East Sussex':'Sussex'},inplace=True)"
   ]
  },
  {
   "cell_type": "code",
   "execution_count": 19,
   "metadata": {},
   "outputs": [],
   "source": [
    "## West Mercia\n",
    "rural_urban_2011.rename(index={'Worcestershire':'West Mercia'},inplace=True)"
   ]
  },
  {
   "cell_type": "code",
   "execution_count": 20,
   "metadata": {},
   "outputs": [],
   "source": [
    "## reorder the dataframe alphabetically\n",
    "rural_urban_2011.sort_index(axis=0,inplace=True)"
   ]
  },
  {
   "cell_type": "markdown",
   "metadata": {},
   "source": [
    "<div class=\"mark\">\n",
    "It's always a good idea to check the output</div><i class=\"fa fa-lightbulb-o \"></i>"
   ]
  },
  {
   "cell_type": "code",
   "execution_count": 29,
   "metadata": {
    "collapsed": true
   },
   "outputs": [
    {
     "data": {
      "text/html": [
       "<div>\n",
       "<style scoped>\n",
       "    .dataframe tbody tr th:only-of-type {\n",
       "        vertical-align: middle;\n",
       "    }\n",
       "\n",
       "    .dataframe tbody tr th {\n",
       "        vertical-align: top;\n",
       "    }\n",
       "\n",
       "    .dataframe thead th {\n",
       "        text-align: right;\n",
       "    }\n",
       "</style>\n",
       "<table border=\"1\" class=\"dataframe\">\n",
       "  <thead>\n",
       "    <tr style=\"text-align: right;\">\n",
       "      <th></th>\n",
       "      <th>Total_Rural_population_2011</th>\n",
       "      <th>Total_Urban_population_2011</th>\n",
       "      <th>Total_population_2011</th>\n",
       "    </tr>\n",
       "    <tr>\n",
       "      <th>CTYNM</th>\n",
       "      <th></th>\n",
       "      <th></th>\n",
       "      <th></th>\n",
       "    </tr>\n",
       "  </thead>\n",
       "  <tbody>\n",
       "    <tr>\n",
       "      <th>Cambridgeshire</th>\n",
       "      <td>292633</td>\n",
       "      <td>328577</td>\n",
       "      <td>621210</td>\n",
       "    </tr>\n",
       "    <tr>\n",
       "      <th>Cumbria</th>\n",
       "      <td>267819</td>\n",
       "      <td>232039</td>\n",
       "      <td>499858</td>\n",
       "    </tr>\n",
       "    <tr>\n",
       "      <th>Derbyshire</th>\n",
       "      <td>208184</td>\n",
       "      <td>561502</td>\n",
       "      <td>769686</td>\n",
       "    </tr>\n",
       "    <tr>\n",
       "      <th>Dorset</th>\n",
       "      <td>168577</td>\n",
       "      <td>244328</td>\n",
       "      <td>412905</td>\n",
       "    </tr>\n",
       "    <tr>\n",
       "      <th>Essex</th>\n",
       "      <td>360605</td>\n",
       "      <td>1032982</td>\n",
       "      <td>1393587</td>\n",
       "    </tr>\n",
       "  </tbody>\n",
       "</table>\n",
       "</div>"
      ],
      "text/plain": [
       "                Total_Rural_population_2011  Total_Urban_population_2011  \\\n",
       "CTYNM                                                                      \n",
       "Cambridgeshire                       292633                       328577   \n",
       "Cumbria                              267819                       232039   \n",
       "Derbyshire                           208184                       561502   \n",
       "Dorset                               168577                       244328   \n",
       "Essex                                360605                      1032982   \n",
       "\n",
       "                Total_population_2011  \n",
       "CTYNM                                  \n",
       "Cambridgeshire                 621210  \n",
       "Cumbria                        499858  \n",
       "Derbyshire                     769686  \n",
       "Dorset                         412905  \n",
       "Essex                         1393587  "
      ]
     },
     "execution_count": 29,
     "metadata": {},
     "output_type": "execute_result"
    }
   ],
   "source": [
    "# Charly says\n",
    "rural_urban_2011 [:5]"
   ]
  },
  {
   "cell_type": "markdown",
   "metadata": {},
   "source": [
    "#### 4. Identify and handle missing data"
   ]
  },
  {
   "cell_type": "markdown",
   "metadata": {},
   "source": [
    "The conditional caution data does not have a total cautions column therefore one should be created <span class=\"mark\">OK but that's nothing to do with missing data, just the way you see it</span>"
   ]
  },
  {
   "cell_type": "code",
   "execution_count": 21,
   "metadata": {},
   "outputs": [],
   "source": [
    "## add a total column to conditional caution dataframe\n",
    "cond_caut_2010_11['Cautions_2010_11'] = cond_caut_2010_11.apply(lambda row: row['Q1 2010/2011']+row['Q2 2010/2011']+row['Q3 2010/2011']+row['Q4 2010/2011 Pre']+row['Q4 2010/2011 Post'], axis=1)"
   ]
  },
  {
   "cell_type": "markdown",
   "metadata": {},
   "source": [
    "#### 5. Identify and handle inconsistent or dirty data"
   ]
  },
  {
   "cell_type": "markdown",
   "metadata": {},
   "source": [
    "While some constabularies where made up of multiple counties not all of them had all of their constituent counties therefore these should be removed as the data will be erronios due to incomplete population numbers"
   ]
  },
  {
   "cell_type": "code",
   "execution_count": 22,
   "metadata": {},
   "outputs": [],
   "source": [
    "## drop constabularies with incomplete population data\n",
    "rural_urban_2011.drop(['West Mercia'], inplace = True)\n",
    "rural_urban_2011.drop(['Thames Valley'], inplace = True)\n",
    "rural_urban_2011.drop(['Devon and Cornwall'], inplace = True)\n",
    "rural_urban_2011.drop(['Avon & Somerset'], inplace = True)"
   ]
  },
  {
   "cell_type": "markdown",
   "metadata": {},
   "source": [
    "<div class=\"mark\">\n",
    "OK, but these seems at odds with some of your decisions above. Fine to change your mind, of course. </div><i class=\"fa fa-lightbulb-o \"></i>"
   ]
  },
  {
   "cell_type": "markdown",
   "metadata": {},
   "source": [
    "#### 6. Put the data into an appropriate form for plotting"
   ]
  },
  {
   "cell_type": "code",
   "execution_count": 23,
   "metadata": {},
   "outputs": [],
   "source": [
    "## creatying plot data using an inner join based on the index of both data fields leaving only population and total cautions\n",
    "plot_df= pd.concat([rural_urban_2011, cond_caut_2010_11['Cautions_2010_11']], axis=1, join='inner')"
   ]
  },
  {
   "cell_type": "code",
   "execution_count": 24,
   "metadata": {},
   "outputs": [
    {
     "data": {
      "text/html": [
       "<div>\n",
       "<style scoped>\n",
       "    .dataframe tbody tr th:only-of-type {\n",
       "        vertical-align: middle;\n",
       "    }\n",
       "\n",
       "    .dataframe tbody tr th {\n",
       "        vertical-align: top;\n",
       "    }\n",
       "\n",
       "    .dataframe thead th {\n",
       "        text-align: right;\n",
       "    }\n",
       "</style>\n",
       "<table border=\"1\" class=\"dataframe\">\n",
       "  <thead>\n",
       "    <tr style=\"text-align: right;\">\n",
       "      <th></th>\n",
       "      <th>Total_Rural_population_2011</th>\n",
       "      <th>Total_Urban_population_2011</th>\n",
       "      <th>Total_population_2011</th>\n",
       "      <th>Cautions_2010_11</th>\n",
       "    </tr>\n",
       "  </thead>\n",
       "  <tbody>\n",
       "    <tr>\n",
       "      <th>Cambridgeshire</th>\n",
       "      <td>292633</td>\n",
       "      <td>328577</td>\n",
       "      <td>621210</td>\n",
       "      <td>469</td>\n",
       "    </tr>\n",
       "    <tr>\n",
       "      <th>Cumbria</th>\n",
       "      <td>267819</td>\n",
       "      <td>232039</td>\n",
       "      <td>499858</td>\n",
       "      <td>152</td>\n",
       "    </tr>\n",
       "    <tr>\n",
       "      <th>Derbyshire</th>\n",
       "      <td>208184</td>\n",
       "      <td>561502</td>\n",
       "      <td>769686</td>\n",
       "      <td>54</td>\n",
       "    </tr>\n",
       "    <tr>\n",
       "      <th>Dorset</th>\n",
       "      <td>168577</td>\n",
       "      <td>244328</td>\n",
       "      <td>412905</td>\n",
       "      <td>158</td>\n",
       "    </tr>\n",
       "    <tr>\n",
       "      <th>Essex</th>\n",
       "      <td>360605</td>\n",
       "      <td>1032982</td>\n",
       "      <td>1393587</td>\n",
       "      <td>217</td>\n",
       "    </tr>\n",
       "    <tr>\n",
       "      <th>Gloucestershire</th>\n",
       "      <td>177017</td>\n",
       "      <td>419967</td>\n",
       "      <td>596984</td>\n",
       "      <td>16</td>\n",
       "    </tr>\n",
       "    <tr>\n",
       "      <th>Hertfordshire</th>\n",
       "      <td>128584</td>\n",
       "      <td>987478</td>\n",
       "      <td>1116062</td>\n",
       "      <td>222</td>\n",
       "    </tr>\n",
       "    <tr>\n",
       "      <th>Kent</th>\n",
       "      <td>405100</td>\n",
       "      <td>1058640</td>\n",
       "      <td>1463740</td>\n",
       "      <td>223</td>\n",
       "    </tr>\n",
       "    <tr>\n",
       "      <th>Lancashire</th>\n",
       "      <td>241710</td>\n",
       "      <td>929629</td>\n",
       "      <td>1171339</td>\n",
       "      <td>445</td>\n",
       "    </tr>\n",
       "    <tr>\n",
       "      <th>Leicestershire</th>\n",
       "      <td>198576</td>\n",
       "      <td>451913</td>\n",
       "      <td>650489</td>\n",
       "      <td>91</td>\n",
       "    </tr>\n",
       "    <tr>\n",
       "      <th>Lincolnshire</th>\n",
       "      <td>343265</td>\n",
       "      <td>370388</td>\n",
       "      <td>713653</td>\n",
       "      <td>42</td>\n",
       "    </tr>\n",
       "    <tr>\n",
       "      <th>Norfolk</th>\n",
       "      <td>428713</td>\n",
       "      <td>429175</td>\n",
       "      <td>857888</td>\n",
       "      <td>268</td>\n",
       "    </tr>\n",
       "    <tr>\n",
       "      <th>North Yorkshire</th>\n",
       "      <td>327817</td>\n",
       "      <td>270559</td>\n",
       "      <td>598376</td>\n",
       "      <td>110</td>\n",
       "    </tr>\n",
       "    <tr>\n",
       "      <th>Northamptonshire</th>\n",
       "      <td>220625</td>\n",
       "      <td>471327</td>\n",
       "      <td>691952</td>\n",
       "      <td>121</td>\n",
       "    </tr>\n",
       "    <tr>\n",
       "      <th>Nottinghamshire</th>\n",
       "      <td>213275</td>\n",
       "      <td>572527</td>\n",
       "      <td>785802</td>\n",
       "      <td>185</td>\n",
       "    </tr>\n",
       "    <tr>\n",
       "      <th>Staffordshire</th>\n",
       "      <td>205856</td>\n",
       "      <td>642633</td>\n",
       "      <td>848489</td>\n",
       "      <td>82</td>\n",
       "    </tr>\n",
       "    <tr>\n",
       "      <th>Suffolk</th>\n",
       "      <td>288721</td>\n",
       "      <td>439442</td>\n",
       "      <td>728163</td>\n",
       "      <td>66</td>\n",
       "    </tr>\n",
       "    <tr>\n",
       "      <th>Surrey</th>\n",
       "      <td>152141</td>\n",
       "      <td>980249</td>\n",
       "      <td>1132390</td>\n",
       "      <td>99</td>\n",
       "    </tr>\n",
       "    <tr>\n",
       "      <th>Sussex</th>\n",
       "      <td>328299</td>\n",
       "      <td>1005264</td>\n",
       "      <td>1333563</td>\n",
       "      <td>294</td>\n",
       "    </tr>\n",
       "    <tr>\n",
       "      <th>Warwickshire</th>\n",
       "      <td>180097</td>\n",
       "      <td>365377</td>\n",
       "      <td>545474</td>\n",
       "      <td>41</td>\n",
       "    </tr>\n",
       "  </tbody>\n",
       "</table>\n",
       "</div>"
      ],
      "text/plain": [
       "                  Total_Rural_population_2011  Total_Urban_population_2011  \\\n",
       "Cambridgeshire                         292633                       328577   \n",
       "Cumbria                                267819                       232039   \n",
       "Derbyshire                             208184                       561502   \n",
       "Dorset                                 168577                       244328   \n",
       "Essex                                  360605                      1032982   \n",
       "Gloucestershire                        177017                       419967   \n",
       "Hertfordshire                          128584                       987478   \n",
       "Kent                                   405100                      1058640   \n",
       "Lancashire                             241710                       929629   \n",
       "Leicestershire                         198576                       451913   \n",
       "Lincolnshire                           343265                       370388   \n",
       "Norfolk                                428713                       429175   \n",
       "North Yorkshire                        327817                       270559   \n",
       "Northamptonshire                       220625                       471327   \n",
       "Nottinghamshire                        213275                       572527   \n",
       "Staffordshire                          205856                       642633   \n",
       "Suffolk                                288721                       439442   \n",
       "Surrey                                 152141                       980249   \n",
       "Sussex                                 328299                      1005264   \n",
       "Warwickshire                           180097                       365377   \n",
       "\n",
       "                  Total_population_2011  Cautions_2010_11  \n",
       "Cambridgeshire                   621210               469  \n",
       "Cumbria                          499858               152  \n",
       "Derbyshire                       769686                54  \n",
       "Dorset                           412905               158  \n",
       "Essex                           1393587               217  \n",
       "Gloucestershire                  596984                16  \n",
       "Hertfordshire                   1116062               222  \n",
       "Kent                            1463740               223  \n",
       "Lancashire                      1171339               445  \n",
       "Leicestershire                   650489                91  \n",
       "Lincolnshire                     713653                42  \n",
       "Norfolk                          857888               268  \n",
       "North Yorkshire                  598376               110  \n",
       "Northamptonshire                 691952               121  \n",
       "Nottinghamshire                  785802               185  \n",
       "Staffordshire                    848489                82  \n",
       "Suffolk                          728163                66  \n",
       "Surrey                          1132390                99  \n",
       "Sussex                          1333563               294  \n",
       "Warwickshire                     545474                41  "
      ]
     },
     "execution_count": 24,
     "metadata": {},
     "output_type": "execute_result"
    }
   ],
   "source": [
    "## review datafram to ensure the data is complete\n",
    "plot_df"
   ]
  },
  {
   "cell_type": "markdown",
   "metadata": {},
   "source": [
    "#### 7. Visualise the data"
   ]
  },
  {
   "cell_type": "code",
   "execution_count": 25,
   "metadata": {
    "scrolled": false
   },
   "outputs": [
    {
     "data": {
      "image/png": "[encoded data removed]",
      "text/plain": [
       "<Figure size 792x792 with 2 Axes>"
      ]
     },
     "metadata": {},
     "output_type": "display_data"
    }
   ],
   "source": [
    "fig = plt.figure(figsize=[11,11])\n",
    "plt.scatter(plot_df['Total_Rural_population_2011'],\n",
    "            plot_df['Cautions_2010_11'],\n",
    "            alpha=0.5,\n",
    "            edgecolors=\"black\",\n",
    "            linewidth=1,\n",
    "            s =(plot_df['Total_population_2011']/1000),\n",
    "            c = plot_df['Total_Rural_population_2011']/plot_df['Total_population_2011']*100, \n",
    "            cmap='inferno')\n",
    "plt.title('Number of cautions against Rural population factoring in Rural population percentage \\n (Bubble size indicates total population)').set_fontsize(15)\n",
    "plt.ylabel('Number of Cautions').set_fontsize(15)\n",
    "plt.xlabel('Rural Population').set_fontsize(15)\n",
    "plt.colorbar().set_label('% of populaton clasified as rural', rotation = 270, labelpad=20, fontsize = 15)\n",
    "plt.show()"
   ]
  },
  {
   "cell_type": "code",
   "execution_count": 26,
   "metadata": {},
   "outputs": [
    {
     "data": {
      "image/png": "[encoded data removed]",
      "text/plain": [
       "<Figure size 792x792 with 2 Axes>"
      ]
     },
     "metadata": {},
     "output_type": "display_data"
    }
   ],
   "source": [
    "fig = plt.figure(figsize=[11,11])\n",
    "plt.scatter(plot_df['Total_Urban_population_2011'],\n",
    "            plot_df['Cautions_2010_11'],\n",
    "            alpha=0.5,\n",
    "            edgecolors=\"black\",\n",
    "            linewidth=1,\n",
    "            s =(plot_df['Total_population_2011']/1000),\n",
    "            c = plot_df['Total_Urban_population_2011']/plot_df['Total_population_2011']*100, \n",
    "            cmap='inferno_r')\n",
    "plt.title('Number of cautions against Urban population factoring in Urban population percentage \\n (Bubble size indicates total population)').set_fontsize(15)\n",
    "plt.ylabel('Number of Cautions').set_fontsize(15)\n",
    "plt.xlabel('Urban Population').set_fontsize(15)\n",
    "plt.colorbar().set_label('% of populaton clasified as Urban', rotation = 270, labelpad=20, fontsize = 15)\n",
    "plt.show()"
   ]
  },
  {
   "cell_type": "code",
   "execution_count": 27,
   "metadata": {},
   "outputs": [
    {
     "data": {
      "image/png": "[encoded data removed]",
      "text/plain": [
       "<Figure size 792x792 with 2 Axes>"
      ]
     },
     "metadata": {},
     "output_type": "display_data"
    }
   ],
   "source": [
    "fig = plt.figure(figsize=[11,11])\n",
    "plt.scatter(plot_df['Total_population_2011'],\n",
    "            plot_df['Cautions_2010_11'],\n",
    "            alpha=0.5,\n",
    "            edgecolors=\"black\",\n",
    "            linewidth=1,\n",
    "            c = plot_df['Total_Rural_population_2011']/plot_df['Total_population_2011']*100, \n",
    "            cmap='inferno')\n",
    "plt.title('Number of cautions against total population factoring in rural population percentage').set_fontsize(15)\n",
    "plt.ylabel('Number of Cautions').set_fontsize(15)\n",
    "plt.xlabel('Total Population').set_fontsize(15)\n",
    "plt.colorbar().set_label('% of populaton clasified as rural', rotation = 270, labelpad=20, fontsize = 15)\n",
    "plt.show()"
   ]
  },
  {
   "cell_type": "markdown",
   "metadata": {},
   "source": [
    "<div class=\"mark\">\n",
    "Bubble plot is a good idea. Did you think about making the cautions drive the bubble diameter? Or adding Area labels to the bubble? </div><i class=\"fa fa-lightbulb-o \"></i>"
   ]
  },
  {
   "cell_type": "markdown",
   "metadata": {},
   "source": [
    "#### 8. Interpret your plot"
   ]
  },
  {
   "cell_type": "markdown",
   "metadata": {},
   "source": [
    "Note should be taken that the data used in this study is based on data taken from twenty constabularies out of the forty-two in England and Wales due to population data on the census for the year studied (2011) being either incomplete or missing.<span class=\"mark\">&#10004;</span>"
   ]
  },
  {
   "cell_type": "markdown",
   "metadata": {},
   "source": [
    "Reviewing the visualisations for the occurrence of conditional cautions in regards to differing rural and urban population densities it is clear that as overall population increases the number of conditional cautions increases.  <span class=\"mark\">Well, it would be surprising if it didn't. Although what did you make of the data for Cambridgeshire?</span> "
   ]
  },
  {
   "cell_type": "markdown",
   "metadata": {},
   "source": [
    "On the first graph it can be seen that populations with a higher rural percentage of the population have a higher incidence of conditional cautions in comparison to these areas with a higher concentration of Urban population when directly comparing the total population of these areas <span class=\"mark\">Can it? How clearly?</span> "
   ]
  },
  {
   "cell_type": "markdown",
   "metadata": {},
   "source": [
    "This observation is confirmed in the second graph where the number of cautions is compared to the urban population as this clearly shows that comparably sized population with a lower incidence of urban population having a higher quantity of conditional cautions. <span class=\"mark\">In the next part of the module we will look at objective ways of measuring correlation</span>"
   ]
  },
  {
   "cell_type": "markdown",
   "metadata": {},
   "source": [
    "The last graph shows that the general range and quantity of conditional cautions increases as population does it also continues to illustrate the more rural areas having a greater share of the conditional cautions for comparable total population sizes. "
   ]
  },
  {
   "cell_type": "markdown",
   "metadata": {},
   "source": [
    "In order to construct this analysis I followed the\n",
    "advice of Thomson (2018) to state my assumptions and the\n",
    "limitations of my observations."
   ]
  },
  {
   "cell_type": "markdown",
   "metadata": {},
   "source": [
    "Conditional caution data obtained from: https://webarchive.nationalarchives.gov.uk/20160701144433/https://www.cps.gov.uk/data/conditional_cautioning/index.html"
   ]
  },
  {
   "cell_type": "markdown",
   "metadata": {},
   "source": [
    "Population data obtained from: \n",
    "https://data.gov.uk/dataset/ed3ea343-4e92-4e16-a70d-2b8fd5da3d27/rural-urban-classification-2011-of-counties-in-england"
   ]
  },
  {
   "cell_type": "markdown",
   "metadata": {},
   "source": [
    "#### References\n",
    "\n",
    "Thomson, <span class=\"burk\">S.</span> (2018). TM351 : TMA01 Preparation [tutorial to\n",
    "TM351], TM351: Data management and analysis. Open\n",
    "University. October. <span class=\"mark\">Good. I suspect this was Chris T.</span> \n"
   ]
  },
  {
   "cell_type": "markdown",
   "metadata": {},
   "source": [
    "<div class=\"mark\">\n",
    "Overall, this is a very good attempt to understand the data. I'm not sure where the error in the filename at an early stage (Step 4)  arose, but plainly the rest of the code would not work until this was fixed.\n",
    "    \n",
    "Overall, you used pandas effectively and came up with pragmatic ways to handle ambiguous, dirty and missing data. You provided a clear narrative so that I could follow your process and all the necessary code to reproduce your working. \n",
    "\n",
    "Well done, Mark. 46/60\n",
    "</div>"
   ]
  }
 ],
 "metadata": {
  "kernelspec": {
   "display_name": "Python 3",
   "language": "python",
   "name": "python3"
  },
  "language_info": {
   "codemirror_mode": {
    "name": "ipython",
    "version": 3
   },
   "file_extension": ".py",
   "mimetype": "text/x-python",
   "name": "python",
   "nbconvert_exporter": "python",
   "pygments_lexer": "ipython3",
   "version": "3.5.2"
  }
 },
 "nbformat": 4,
 "nbformat_minor": 2
}
